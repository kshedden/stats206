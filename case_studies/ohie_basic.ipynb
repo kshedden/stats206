{
 "cells": [
  {
   "cell_type": "markdown",
   "metadata": {},
   "source": [
    "# OHIE"
   ]
  },
  {
   "cell_type": "markdown",
   "metadata": {},
   "source": [
    "The Oregon Health Insurance Experiment (OHIE) was a program run in\n",
    "Oregon, USA in 2008 in which certain residents of that state were\n",
    "offered the opportunity to enroll in a subsidized health insurance\n",
    "program.  To allocate this opportunity fairly, interested people\n",
    "were invited to participate in a lottery.  The people who won the\n",
    "lottery were then given the opportunity to apply to the insurance\n",
    "program.  A subset of these people actually applied to the program,\n",
    "and finally a subset of these applicants who were confirmed to be\n",
    "eligible were granted insurance."
   ]
  },
  {
   "cell_type": "markdown",
   "metadata": {},
   "source": [
    "Since the opportunity to apply for insurance was allocated randomly,\n",
    "this program is essentially a randomized experiment (although the\n",
    "randomization was employed for fairness, not to facilitate\n",
    "research).  In particular, there was great interest in the outcomes\n",
    "over the subsequent several years of the people who were awarded\n",
    "insurance, compared to those who participated in the lottery but\n",
    "were not selected.  Since this selection was random, in principal\n",
    "there can be no confounders that would distort comparisons between\n",
    "selected and non-selected individuals."
   ]
  },
  {
   "cell_type": "markdown",
   "metadata": {},
   "source": [
    "In this notebook, we only consider the \"baseline\" information,\n",
    "namely, characteristics of the individuals who applied to the\n",
    "lottery.  We also know who \"won\" the lottery, who among those given\n",
    "the opportunity to apply for insurance actually did so, and who\n",
    "among those who applied for insurance were deemed to be eligible and\n",
    "granted insurance."
   ]
  },
  {
   "cell_type": "markdown",
   "metadata": {},
   "source": [
    "A primary focus of this notebook is to use the OHIE data to\n",
    "illustrate concepts from probability, including conditional\n",
    "probabilities and conditional independence."
   ]
  },
  {
   "cell_type": "code",
   "execution_count": 1,
   "metadata": {},
   "outputs": [],
   "source": [
    "import os\n",
    "import pandas as pd\n",
    "import numpy as np"
   ]
  },
  {
   "cell_type": "markdown",
   "metadata": {},
   "source": [
    "Modify this string according to your section number (001 or 002):"
   ]
  },
  {
   "cell_type": "code",
   "execution_count": 2,
   "metadata": {},
   "outputs": [],
   "source": [
    "f = \"stats206s002f21\""
   ]
  },
  {
   "cell_type": "markdown",
   "metadata": {},
   "source": [
    "Now we load the OHIE data from a file."
   ]
  },
  {
   "cell_type": "code",
   "execution_count": 3,
   "metadata": {},
   "outputs": [],
   "source": [
    "base = \"/scratch/%s_class_root/%s_class/shared_data/datasets\" % (f, f)\n",
    "df = pd.read_csv(os.path.join(base, \"oregonhie.csv.gz\"))"
   ]
  },
  {
   "cell_type": "markdown",
   "metadata": {},
   "source": [
    "Let's begin by looking at how many people fall into each category of\n",
    "program participation.  There are five such categories: not\n",
    "selected, selected but did not apply, applied but deemed ineligible,\n",
    "applied and deemed eligible, and unknown.  The number of people in\n",
    "each of these categories is given by the following code:"
   ]
  },
  {
   "cell_type": "code",
   "execution_count": 4,
   "metadata": {},
   "outputs": [
    {
     "data": {
      "text/plain": [
       "treatment     applied_app                           approved_app\n",
       "Not selected  NaN                                   NaN             45088\n",
       "Selected      Did NOT submit an application to OHP  No              11676\n",
       "              Submitted an Application to OHP       No               9425\n",
       "                                                    Yes              8698\n",
       "              NaN                                   NaN                35\n",
       "dtype: int64"
      ]
     },
     "execution_count": 4,
     "metadata": {},
     "output_type": "execute_result"
    }
   ],
   "source": [
    "status = df.groupby([\"treatment\", \"applied_app\", \"approved_app\"], dropna=False).size()\n",
    "status"
   ]
  },
  {
   "cell_type": "markdown",
   "metadata": {},
   "source": [
    "Note that above we use 'dropna=False', overriding the default, since\n",
    "people who did not win the lottery have missing values for variables\n",
    "that are only defined for lottery winners."
   ]
  },
  {
   "cell_type": "markdown",
   "metadata": {},
   "source": [
    "It is desirable to see these counts presented as proportions.  Since\n",
    "'ds' above is a series, we first convert it to a dataframe, so we\n",
    "can add a second column containing the proportions."
   ]
  },
  {
   "cell_type": "code",
   "execution_count": 5,
   "metadata": {},
   "outputs": [
    {
     "data": {
      "text/html": [
       "<div>\n",
       "<style scoped>\n",
       "    .dataframe tbody tr th:only-of-type {\n",
       "        vertical-align: middle;\n",
       "    }\n",
       "\n",
       "    .dataframe tbody tr th {\n",
       "        vertical-align: top;\n",
       "    }\n",
       "\n",
       "    .dataframe thead th {\n",
       "        text-align: right;\n",
       "    }\n",
       "</style>\n",
       "<table border=\"1\" class=\"dataframe\">\n",
       "  <thead>\n",
       "    <tr style=\"text-align: right;\">\n",
       "      <th></th>\n",
       "      <th></th>\n",
       "      <th></th>\n",
       "      <th>Count</th>\n",
       "      <th>Prop</th>\n",
       "    </tr>\n",
       "    <tr>\n",
       "      <th>treatment</th>\n",
       "      <th>applied_app</th>\n",
       "      <th>approved_app</th>\n",
       "      <th></th>\n",
       "      <th></th>\n",
       "    </tr>\n",
       "  </thead>\n",
       "  <tbody>\n",
       "    <tr>\n",
       "      <th>Not selected</th>\n",
       "      <th>NaN</th>\n",
       "      <th>NaN</th>\n",
       "      <td>45088</td>\n",
       "      <td>0.601799</td>\n",
       "    </tr>\n",
       "    <tr>\n",
       "      <th rowspan=\"4\" valign=\"top\">Selected</th>\n",
       "      <th>Did NOT submit an application to OHP</th>\n",
       "      <th>No</th>\n",
       "      <td>11676</td>\n",
       "      <td>0.155842</td>\n",
       "    </tr>\n",
       "    <tr>\n",
       "      <th rowspan=\"2\" valign=\"top\">Submitted an Application to OHP</th>\n",
       "      <th>No</th>\n",
       "      <td>9425</td>\n",
       "      <td>0.125797</td>\n",
       "    </tr>\n",
       "    <tr>\n",
       "      <th>Yes</th>\n",
       "      <td>8698</td>\n",
       "      <td>0.116094</td>\n",
       "    </tr>\n",
       "    <tr>\n",
       "      <th>NaN</th>\n",
       "      <th>NaN</th>\n",
       "      <td>35</td>\n",
       "      <td>0.000467</td>\n",
       "    </tr>\n",
       "  </tbody>\n",
       "</table>\n",
       "</div>"
      ],
      "text/plain": [
       "                                                                Count  \\\n",
       "treatment    applied_app                          approved_app          \n",
       "Not selected NaN                                  NaN           45088   \n",
       "Selected     Did NOT submit an application to OHP No            11676   \n",
       "             Submitted an Application to OHP      No             9425   \n",
       "                                                  Yes            8698   \n",
       "             NaN                                  NaN              35   \n",
       "\n",
       "                                                                    Prop  \n",
       "treatment    applied_app                          approved_app            \n",
       "Not selected NaN                                  NaN           0.601799  \n",
       "Selected     Did NOT submit an application to OHP No            0.155842  \n",
       "             Submitted an Application to OHP      No            0.125797  \n",
       "                                                  Yes           0.116094  \n",
       "             NaN                                  NaN           0.000467  "
      ]
     },
     "execution_count": 5,
     "metadata": {},
     "output_type": "execute_result"
    }
   ],
   "source": [
    "status = pd.DataFrame(status)\n",
    "status.columns = [\"Count\"]\n",
    "status[\"Prop\"] = status[\"Count\"] / status[\"Count\"].sum()\n",
    "status"
   ]
  },
  {
   "cell_type": "markdown",
   "metadata": {},
   "source": [
    "Below we check the overall dataset size, and confirm that the\n",
    "proportions sum to 1, as they must do."
   ]
  },
  {
   "cell_type": "code",
   "execution_count": 6,
   "metadata": {},
   "outputs": [
    {
     "name": "stdout",
     "output_type": "stream",
     "text": [
      "74922\n",
      "1.0\n"
     ]
    }
   ],
   "source": [
    "print(status[\"Count\"].sum())\n",
    "print(status[\"Prop\"].sum())"
   ]
  },
  {
   "cell_type": "markdown",
   "metadata": {},
   "source": [
    "The 'proportions' calculated above can be viewed as estimates (based\n",
    "on the sample) of the population probabilities for the five types of\n",
    "program participation.  We have a random sample of approximately\n",
    "75,000 from this hypothetical population, so the sample proportions\n",
    "are very likely to be close to the population probabilities.  Below\n",
    "we will sometimes refer to these \"proportions\" as \"probabilities\".\n",
    "In some other situations, it is important to distinguish between\n",
    "\"sample probabilities\" a synonym for \"proportions\", and \"population\n",
    "probabilities\"."
   ]
  },
  {
   "cell_type": "markdown",
   "metadata": {},
   "source": [
    "# Marginal probabilities of events and complements"
   ]
  },
  {
   "cell_type": "markdown",
   "metadata": {},
   "source": [
    "The probability of an event is the sum of probabilities for all\n",
    "outcomes belonging to the event.  Suppose we want to estimate the\n",
    "probability of being selected, regardless of whether the person\n",
    "subsequently applied for or was granted insurance.  This is the sum\n",
    "of rows 1, 2, 3, and 4 (counting from 0) in 'ds'.  We can obtain\n",
    "this estimated probability as follows:"
   ]
  },
  {
   "cell_type": "code",
   "execution_count": 7,
   "metadata": {},
   "outputs": [
    {
     "data": {
      "text/plain": [
       "0.3982007954939804"
      ]
     },
     "execution_count": 7,
     "metadata": {},
     "output_type": "execute_result"
    }
   ],
   "source": [
    "status.iloc[1:, :][\"Prop\"].sum()"
   ]
  },
  {
   "cell_type": "markdown",
   "metadata": {},
   "source": [
    "The 'complementary event' to being selected is to not be selected.\n",
    "That is, everyone involved is either selected or not selected, and\n",
    "nobody can be both.  Therefore, another way to calculate the\n",
    "probability of being selected is to take 1 minus the probability of\n",
    "not being selected:"
   ]
  },
  {
   "cell_type": "code",
   "execution_count": 8,
   "metadata": {},
   "outputs": [
    {
     "data": {
      "text/plain": [
       "0.39820079549398035"
      ]
     },
     "execution_count": 8,
     "metadata": {},
     "output_type": "execute_result"
    }
   ],
   "source": [
    "1 - status.iloc[0, :][\"Prop\"]"
   ]
  },
  {
   "cell_type": "markdown",
   "metadata": {},
   "source": [
    "The state of Oregon had a fixed budget for this program, and could\n",
    "not know in advance how many of the people who were selected in the\n",
    "lottery would be deemed eligible for insurance.  Therefore, the\n",
    "probability of being selected in the lottery was presumably set to a\n",
    "conservative level."
   ]
  },
  {
   "cell_type": "markdown",
   "metadata": {},
   "source": [
    "# Joint probabilities"
   ]
  },
  {
   "cell_type": "markdown",
   "metadata": {},
   "source": [
    "Next we will illustrate joint probabilities by looking at the\n",
    "proportions of people with different demographic characteristics who\n",
    "were selected into the program.  These proportions should reflect\n",
    "the fact that selection into the program was random."
   ]
  },
  {
   "cell_type": "markdown",
   "metadata": {},
   "source": [
    "We will do this using an age group variable that we construct below.\n",
    "First we obtain the age of each subject in the first year of the\n",
    "program, then ask Pandas to group the subjects into three groups of\n",
    "equal size based on age."
   ]
  },
  {
   "cell_type": "code",
   "execution_count": 9,
   "metadata": {},
   "outputs": [],
   "source": [
    "df[\"age\"] = 2008 - df[\"birthyear_list\"]\n",
    "df[\"ageg\"] = pd.qcut(df[\"age\"], 3)"
   ]
  },
  {
   "cell_type": "markdown",
   "metadata": {},
   "source": [
    "Next we construct a 'contingency table' showing how many people have\n",
    "each combination of the age group and treatment variables."
   ]
  },
  {
   "cell_type": "code",
   "execution_count": 10,
   "metadata": {},
   "outputs": [
    {
     "data": {
      "text/html": [
       "<div>\n",
       "<style scoped>\n",
       "    .dataframe tbody tr th:only-of-type {\n",
       "        vertical-align: middle;\n",
       "    }\n",
       "\n",
       "    .dataframe tbody tr th {\n",
       "        vertical-align: top;\n",
       "    }\n",
       "\n",
       "    .dataframe thead th {\n",
       "        text-align: right;\n",
       "    }\n",
       "</style>\n",
       "<table border=\"1\" class=\"dataframe\">\n",
       "  <thead>\n",
       "    <tr style=\"text-align: right;\">\n",
       "      <th>treatment</th>\n",
       "      <th>Not selected</th>\n",
       "      <th>Selected</th>\n",
       "    </tr>\n",
       "    <tr>\n",
       "      <th>ageg</th>\n",
       "      <th></th>\n",
       "      <th></th>\n",
       "    </tr>\n",
       "  </thead>\n",
       "  <tbody>\n",
       "    <tr>\n",
       "      <th>(19.999, 32.0]</th>\n",
       "      <td>15021</td>\n",
       "      <td>10038</td>\n",
       "    </tr>\n",
       "    <tr>\n",
       "      <th>(32.0, 47.0]</th>\n",
       "      <td>15619</td>\n",
       "      <td>10521</td>\n",
       "    </tr>\n",
       "    <tr>\n",
       "      <th>(47.0, 63.0]</th>\n",
       "      <td>14448</td>\n",
       "      <td>9275</td>\n",
       "    </tr>\n",
       "  </tbody>\n",
       "</table>\n",
       "</div>"
      ],
      "text/plain": [
       "treatment       Not selected  Selected\n",
       "ageg                                  \n",
       "(19.999, 32.0]         15021     10038\n",
       "(32.0, 47.0]           15619     10521\n",
       "(47.0, 63.0]           14448      9275"
      ]
     },
     "execution_count": 10,
     "metadata": {},
     "output_type": "execute_result"
    }
   ],
   "source": [
    "counts = df.groupby([\"ageg\", \"treatment\"]).size().unstack()\n",
    "counts"
   ]
  },
  {
   "cell_type": "markdown",
   "metadata": {},
   "source": [
    "The next line of code converts the counts above to proportions.\n",
    "Note that we must sum twice since the first sum only sums over the\n",
    "rows."
   ]
  },
  {
   "cell_type": "code",
   "execution_count": 11,
   "metadata": {},
   "outputs": [
    {
     "data": {
      "text/html": [
       "<div>\n",
       "<style scoped>\n",
       "    .dataframe tbody tr th:only-of-type {\n",
       "        vertical-align: middle;\n",
       "    }\n",
       "\n",
       "    .dataframe tbody tr th {\n",
       "        vertical-align: top;\n",
       "    }\n",
       "\n",
       "    .dataframe thead th {\n",
       "        text-align: right;\n",
       "    }\n",
       "</style>\n",
       "<table border=\"1\" class=\"dataframe\">\n",
       "  <thead>\n",
       "    <tr style=\"text-align: right;\">\n",
       "      <th>treatment</th>\n",
       "      <th>Not selected</th>\n",
       "      <th>Selected</th>\n",
       "    </tr>\n",
       "    <tr>\n",
       "      <th>ageg</th>\n",
       "      <th></th>\n",
       "      <th></th>\n",
       "    </tr>\n",
       "  </thead>\n",
       "  <tbody>\n",
       "    <tr>\n",
       "      <th>(19.999, 32.0]</th>\n",
       "      <td>0.200489</td>\n",
       "      <td>0.133979</td>\n",
       "    </tr>\n",
       "    <tr>\n",
       "      <th>(32.0, 47.0]</th>\n",
       "      <td>0.208470</td>\n",
       "      <td>0.140426</td>\n",
       "    </tr>\n",
       "    <tr>\n",
       "      <th>(47.0, 63.0]</th>\n",
       "      <td>0.192841</td>\n",
       "      <td>0.123795</td>\n",
       "    </tr>\n",
       "  </tbody>\n",
       "</table>\n",
       "</div>"
      ],
      "text/plain": [
       "treatment       Not selected  Selected\n",
       "ageg                                  \n",
       "(19.999, 32.0]      0.200489  0.133979\n",
       "(32.0, 47.0]        0.208470  0.140426\n",
       "(47.0, 63.0]        0.192841  0.123795"
      ]
     },
     "execution_count": 11,
     "metadata": {},
     "output_type": "execute_result"
    }
   ],
   "source": [
    "probs = counts / counts.sum().sum()\n",
    "probs"
   ]
  },
  {
   "cell_type": "markdown",
   "metadata": {},
   "source": [
    "The previous cell contains sample proportions, which estimate joint\n",
    "probabilities in the population. Again we can check that the sample\n",
    "proportions sum to exactly 1."
   ]
  },
  {
   "cell_type": "code",
   "execution_count": 12,
   "metadata": {},
   "outputs": [
    {
     "data": {
      "text/plain": [
       "1.0"
      ]
     },
     "execution_count": 12,
     "metadata": {},
     "output_type": "execute_result"
    }
   ],
   "source": [
    "probs.sum().sum()"
   ]
  },
  {
   "cell_type": "markdown",
   "metadata": {},
   "source": [
    "# Conditional probabilities of treatment assignment"
   ]
  },
  {
   "cell_type": "markdown",
   "metadata": {},
   "source": [
    "Recall that a conditional probability is a joint probability divided\n",
    "by a marginal probability.  In general P(A|B) = P(A,B) / P(B), where\n",
    "A and B are two 'events'.  Below we will estimate the conditional\n",
    "probabilities of being assigned (selected) to the treatment group\n",
    "(i.e. winning the lottery) given a person's age group:\n",
    "\n",
    "P(win lottery | age group) = P(win lottery, age group) / P(age group)\n",
    "\n",
    "The only other possible outcome of the lottery is not winning, and\n",
    "the probability of this happening is 1 minus the probability of\n",
    "winning the lottery.  The conditional distribution of 'win lottery'\n",
    "given 'age group' is the collection consisting of all probabilities\n",
    "of either winning or not winning the lottery, for all of the age\n",
    "groups.  That is, 6 separate ways to apply the above formula, since\n",
    "we can set 'win lottery' to either false or true, and we can set\n",
    "'age group' to any of the three age groups."
   ]
  },
  {
   "cell_type": "markdown",
   "metadata": {},
   "source": [
    "To estimate the conditional probabilities by age group, we first\n",
    "calculate the marginal probabilities by age group, as follows."
   ]
  },
  {
   "cell_type": "code",
   "execution_count": 13,
   "metadata": {},
   "outputs": [
    {
     "data": {
      "text/plain": [
       "ageg\n",
       "(19.999, 32.0]    0.334468\n",
       "(32.0, 47.0]      0.348896\n",
       "(47.0, 63.0]      0.316636\n",
       "dtype: float64"
      ]
     },
     "execution_count": 13,
     "metadata": {},
     "output_type": "execute_result"
    }
   ],
   "source": [
    "age_marg = probs.sum(1)\n",
    "age_marg"
   ]
  },
  {
   "cell_type": "markdown",
   "metadata": {},
   "source": [
    "In this case, these probabilities are approximately equal, since we\n",
    "constructed the age groups using 'qcut' to have this property.\n",
    "However, age is only measured to the nearest years and there are lot\n",
    "of people with the same age.  So it is not possible to perfectly\n",
    "divide the sample into thirds based on age.  Also, recall that given\n",
    "a dataframe 'x', 'x.sum(1)' sums within the rows and 'x.sum(0)' sums\n",
    "within the columns."
   ]
  },
  {
   "cell_type": "markdown",
   "metadata": {},
   "source": [
    "Next we construct the conditional probabilities, by dividing the\n",
    "joint probabilities by the marginal probabilities. We cannot simply\n",
    "use 'dp / mpa' since this would be dividing a dataframe by a series,\n",
    "and Pandas doesn't know how to align structures with different\n",
    "shapes.  The 'div' method divides a dataframe by a series, and\n",
    "contains an additional argument so that 'x.div(y, 0)' means that\n",
    "every column of 'x' is divided by 'y', and 'x.div(y, 1)' means that\n",
    "every row of 'x' is divided by 'y'.  Note that in the first case,\n",
    "the length of 'y' must be equal to the number of rows of 'x', and in\n",
    "the second case the length of 'y' must be equal to the number of\n",
    "columns of 'x'."
   ]
  },
  {
   "cell_type": "code",
   "execution_count": 14,
   "metadata": {},
   "outputs": [
    {
     "data": {
      "text/html": [
       "<div>\n",
       "<style scoped>\n",
       "    .dataframe tbody tr th:only-of-type {\n",
       "        vertical-align: middle;\n",
       "    }\n",
       "\n",
       "    .dataframe tbody tr th {\n",
       "        vertical-align: top;\n",
       "    }\n",
       "\n",
       "    .dataframe thead th {\n",
       "        text-align: right;\n",
       "    }\n",
       "</style>\n",
       "<table border=\"1\" class=\"dataframe\">\n",
       "  <thead>\n",
       "    <tr style=\"text-align: right;\">\n",
       "      <th>treatment</th>\n",
       "      <th>Not selected</th>\n",
       "      <th>Selected</th>\n",
       "    </tr>\n",
       "    <tr>\n",
       "      <th>ageg</th>\n",
       "      <th></th>\n",
       "      <th></th>\n",
       "    </tr>\n",
       "  </thead>\n",
       "  <tbody>\n",
       "    <tr>\n",
       "      <th>(19.999, 32.0]</th>\n",
       "      <td>0.599425</td>\n",
       "      <td>0.400575</td>\n",
       "    </tr>\n",
       "    <tr>\n",
       "      <th>(32.0, 47.0]</th>\n",
       "      <td>0.597513</td>\n",
       "      <td>0.402487</td>\n",
       "    </tr>\n",
       "    <tr>\n",
       "      <th>(47.0, 63.0]</th>\n",
       "      <td>0.609029</td>\n",
       "      <td>0.390971</td>\n",
       "    </tr>\n",
       "  </tbody>\n",
       "</table>\n",
       "</div>"
      ],
      "text/plain": [
       "treatment       Not selected  Selected\n",
       "ageg                                  \n",
       "(19.999, 32.0]      0.599425  0.400575\n",
       "(32.0, 47.0]        0.597513  0.402487\n",
       "(47.0, 63.0]        0.609029  0.390971"
      ]
     },
     "execution_count": 14,
     "metadata": {},
     "output_type": "execute_result"
    }
   ],
   "source": [
    "age_cond = probs.div(age_marg, 0)\n",
    "age_cond"
   ]
  },
  {
   "cell_type": "markdown",
   "metadata": {},
   "source": [
    "To confirm that we have valid conditional probabilities, check that\n",
    "the elements of 'dr' sum to 1."
   ]
  },
  {
   "cell_type": "code",
   "execution_count": 15,
   "metadata": {},
   "outputs": [
    {
     "data": {
      "text/plain": [
       "ageg\n",
       "(19.999, 32.0]    1.0\n",
       "(32.0, 47.0]      1.0\n",
       "(47.0, 63.0]      1.0\n",
       "dtype: float64"
      ]
     },
     "execution_count": 15,
     "metadata": {},
     "output_type": "execute_result"
    }
   ],
   "source": [
    "age_cond.sum(1)"
   ]
  },
  {
   "cell_type": "markdown",
   "metadata": {},
   "source": [
    "The results in 'dr' are consistent with random assignment.  Within\n",
    "each age band, the probability of being selected is almost exactly\n",
    "0.4.  The fact that this proportion is nearly the same across all\n",
    "age bands suggests that there was no inadvertent non-random\n",
    "assignment by age."
   ]
  },
  {
   "cell_type": "markdown",
   "metadata": {},
   "source": [
    "We can also look at the conditional distributions by column,\n",
    "calculated below."
   ]
  },
  {
   "cell_type": "code",
   "execution_count": 16,
   "metadata": {},
   "outputs": [],
   "source": [
    "app_cond = probs.div(probs.sum(0), 1)"
   ]
  },
  {
   "cell_type": "markdown",
   "metadata": {},
   "source": [
    "To confirm that this is a valid distribution, check that the\n",
    "proportions sum to 1:"
   ]
  },
  {
   "cell_type": "code",
   "execution_count": 17,
   "metadata": {},
   "outputs": [
    {
     "data": {
      "text/plain": [
       "treatment\n",
       "Not selected    1.0\n",
       "Selected        1.0\n",
       "dtype: float64"
      ]
     },
     "execution_count": 17,
     "metadata": {},
     "output_type": "execute_result"
    }
   ],
   "source": [
    "app_cond.sum()"
   ]
  },
  {
   "cell_type": "markdown",
   "metadata": {},
   "source": [
    "The fact that the conditional probabilities given treatment\n",
    "assignment are roughly constant (at 1/3 per age band) is a\n",
    "consequence of the random treatment assignment, and of the fact that\n",
    "we defined the age bands to include equal fractions of the sample."
   ]
  },
  {
   "cell_type": "markdown",
   "metadata": {},
   "source": [
    "Conditional probabilities of applying for insurance"
   ]
  },
  {
   "cell_type": "markdown",
   "metadata": {},
   "source": [
    "Now let's consider a non-randomized variable -- whether a person who\n",
    "is randomly selected to be given the opportunity to apply for\n",
    "insurance actually submits the application."
   ]
  },
  {
   "cell_type": "markdown",
   "metadata": {},
   "source": [
    "First we select the people who were selected (i.e. who won the\n",
    "lottery) since those who are not selected cannot apply for insurance\n",
    "under this program."
   ]
  },
  {
   "cell_type": "code",
   "execution_count": 18,
   "metadata": {},
   "outputs": [],
   "source": [
    "dx = df.loc[df[\"treatment\"] == \"Selected\", :]"
   ]
  },
  {
   "cell_type": "markdown",
   "metadata": {},
   "source": [
    "Next we calculate counts and proportions for each combination of age\n",
    "and 'applied_app', which tells us whether each person submitted the\n",
    "application to obtain insurance."
   ]
  },
  {
   "cell_type": "code",
   "execution_count": 19,
   "metadata": {},
   "outputs": [
    {
     "data": {
      "text/html": [
       "<div>\n",
       "<style scoped>\n",
       "    .dataframe tbody tr th:only-of-type {\n",
       "        vertical-align: middle;\n",
       "    }\n",
       "\n",
       "    .dataframe tbody tr th {\n",
       "        vertical-align: top;\n",
       "    }\n",
       "\n",
       "    .dataframe thead th {\n",
       "        text-align: right;\n",
       "    }\n",
       "</style>\n",
       "<table border=\"1\" class=\"dataframe\">\n",
       "  <thead>\n",
       "    <tr style=\"text-align: right;\">\n",
       "      <th>applied_app</th>\n",
       "      <th>Did NOT submit an application to OHP</th>\n",
       "      <th>Submitted an Application to OHP</th>\n",
       "    </tr>\n",
       "    <tr>\n",
       "      <th>ageg</th>\n",
       "      <th></th>\n",
       "      <th></th>\n",
       "    </tr>\n",
       "  </thead>\n",
       "  <tbody>\n",
       "    <tr>\n",
       "      <th>(19.999, 32.0]</th>\n",
       "      <td>0.157958</td>\n",
       "      <td>0.178462</td>\n",
       "    </tr>\n",
       "    <tr>\n",
       "      <th>(32.0, 47.0]</th>\n",
       "      <td>0.133058</td>\n",
       "      <td>0.219538</td>\n",
       "    </tr>\n",
       "    <tr>\n",
       "      <th>(47.0, 63.0]</th>\n",
       "      <td>0.100809</td>\n",
       "      <td>0.210175</td>\n",
       "    </tr>\n",
       "  </tbody>\n",
       "</table>\n",
       "</div>"
      ],
      "text/plain": [
       "applied_app     Did NOT submit an application to OHP  \\\n",
       "ageg                                                   \n",
       "(19.999, 32.0]                              0.157958   \n",
       "(32.0, 47.0]                                0.133058   \n",
       "(47.0, 63.0]                                0.100809   \n",
       "\n",
       "applied_app     Submitted an Application to OHP  \n",
       "ageg                                             \n",
       "(19.999, 32.0]                         0.178462  \n",
       "(32.0, 47.0]                           0.219538  \n",
       "(47.0, 63.0]                           0.210175  "
      ]
     },
     "execution_count": 19,
     "metadata": {},
     "output_type": "execute_result"
    }
   ],
   "source": [
    "counts = dx.groupby([\"ageg\", \"applied_app\"]).size().unstack()\n",
    "probs = counts / counts.sum().sum()\n",
    "probs"
   ]
  },
  {
   "cell_type": "markdown",
   "metadata": {},
   "source": [
    "The conditional probabilities for age groups ('dr') and\n",
    "'applied_app' levels (dc) are computed as above."
   ]
  },
  {
   "cell_type": "code",
   "execution_count": 20,
   "metadata": {},
   "outputs": [],
   "source": [
    "age_marg = probs.div(probs.sum(1), 0)\n",
    "app_marg = probs.div(probs.sum(0), 1)"
   ]
  },
  {
   "cell_type": "markdown",
   "metadata": {},
   "source": [
    "The values in 'dr' are of special interest, because they indicate\n",
    "how demographic differences relate to an individual's decision to\n",
    "apply to the program."
   ]
  },
  {
   "cell_type": "code",
   "execution_count": 21,
   "metadata": {},
   "outputs": [
    {
     "data": {
      "text/html": [
       "<div>\n",
       "<style scoped>\n",
       "    .dataframe tbody tr th:only-of-type {\n",
       "        vertical-align: middle;\n",
       "    }\n",
       "\n",
       "    .dataframe tbody tr th {\n",
       "        vertical-align: top;\n",
       "    }\n",
       "\n",
       "    .dataframe thead th {\n",
       "        text-align: right;\n",
       "    }\n",
       "</style>\n",
       "<table border=\"1\" class=\"dataframe\">\n",
       "  <thead>\n",
       "    <tr style=\"text-align: right;\">\n",
       "      <th>applied_app</th>\n",
       "      <th>Did NOT submit an application to OHP</th>\n",
       "      <th>Submitted an Application to OHP</th>\n",
       "    </tr>\n",
       "    <tr>\n",
       "      <th>ageg</th>\n",
       "      <th></th>\n",
       "      <th></th>\n",
       "    </tr>\n",
       "  </thead>\n",
       "  <tbody>\n",
       "    <tr>\n",
       "      <th>(19.999, 32.0]</th>\n",
       "      <td>0.469526</td>\n",
       "      <td>0.530474</td>\n",
       "    </tr>\n",
       "    <tr>\n",
       "      <th>(32.0, 47.0]</th>\n",
       "      <td>0.377367</td>\n",
       "      <td>0.622633</td>\n",
       "    </tr>\n",
       "    <tr>\n",
       "      <th>(47.0, 63.0]</th>\n",
       "      <td>0.324161</td>\n",
       "      <td>0.675839</td>\n",
       "    </tr>\n",
       "  </tbody>\n",
       "</table>\n",
       "</div>"
      ],
      "text/plain": [
       "applied_app     Did NOT submit an application to OHP  \\\n",
       "ageg                                                   \n",
       "(19.999, 32.0]                              0.469526   \n",
       "(32.0, 47.0]                                0.377367   \n",
       "(47.0, 63.0]                                0.324161   \n",
       "\n",
       "applied_app     Submitted an Application to OHP  \n",
       "ageg                                             \n",
       "(19.999, 32.0]                         0.530474  \n",
       "(32.0, 47.0]                           0.622633  \n",
       "(47.0, 63.0]                           0.675839  "
      ]
     },
     "execution_count": 21,
     "metadata": {},
     "output_type": "execute_result"
    }
   ],
   "source": [
    "age_marg"
   ]
  },
  {
   "cell_type": "markdown",
   "metadata": {},
   "source": [
    "Note that the conditional probability of applying to the program is\n",
    "greater for older people."
   ]
  },
  {
   "cell_type": "markdown",
   "metadata": {},
   "source": [
    "# Independence"
   ]
  },
  {
   "cell_type": "markdown",
   "metadata": {},
   "source": [
    "Two events A and B are statistically independent if P(A, B) =\n",
    "P(A)*P(B).  To illustrate this concept using the OHIE data, we\n",
    "consider whether the event of applying for insurance is independent\n",
    "of age, considering only people who were given the opportunity to\n",
    "apply (i.e. who won the lottery).\n",
    "\n",
    "We start by calculating marginal probabilities, as above."
   ]
  },
  {
   "cell_type": "code",
   "execution_count": 22,
   "metadata": {},
   "outputs": [],
   "source": [
    "age_marg = probs.sum(1)\n",
    "app_marg = probs.sum(0)"
   ]
  },
  {
   "cell_type": "markdown",
   "metadata": {},
   "source": [
    "If two random variables are independent, then the joint\n",
    "probabilities can be constructed as the product of the marginal\n",
    "probabilities.  We can obtain these as follows:"
   ]
  },
  {
   "cell_type": "code",
   "execution_count": 23,
   "metadata": {},
   "outputs": [
    {
     "data": {
      "text/plain": [
       "array([[0.13181811, 0.20460257],\n",
       "       [0.1381559 , 0.21443982],\n",
       "       [0.12185122, 0.18913237]])"
      ]
     },
     "execution_count": 23,
     "metadata": {},
     "output_type": "execute_result"
    }
   ],
   "source": [
    "ind = np.outer(age_marg, app_marg)\n",
    "ind"
   ]
  },
  {
   "cell_type": "markdown",
   "metadata": {},
   "source": [
    "These joint probabilities represent the closest exactly independent\n",
    "distribution to the observed distribution of our data.\n",
    "\n",
    "Next we can compare these exactly independent joint probabilities to\n",
    "the observed joint probabilities.  These differences should be\n",
    "exactly zero in the population if the random variables are\n",
    "independent.  Here we are working with a sample not a population, so\n",
    "we do not expect to get exact zeros."
   ]
  },
  {
   "cell_type": "code",
   "execution_count": 24,
   "metadata": {},
   "outputs": [
    {
     "data": {
      "text/html": [
       "<div>\n",
       "<style scoped>\n",
       "    .dataframe tbody tr th:only-of-type {\n",
       "        vertical-align: middle;\n",
       "    }\n",
       "\n",
       "    .dataframe tbody tr th {\n",
       "        vertical-align: top;\n",
       "    }\n",
       "\n",
       "    .dataframe thead th {\n",
       "        text-align: right;\n",
       "    }\n",
       "</style>\n",
       "<table border=\"1\" class=\"dataframe\">\n",
       "  <thead>\n",
       "    <tr style=\"text-align: right;\">\n",
       "      <th>applied_app</th>\n",
       "      <th>Did NOT submit an application to OHP</th>\n",
       "      <th>Submitted an Application to OHP</th>\n",
       "    </tr>\n",
       "    <tr>\n",
       "      <th>ageg</th>\n",
       "      <th></th>\n",
       "      <th></th>\n",
       "    </tr>\n",
       "  </thead>\n",
       "  <tbody>\n",
       "    <tr>\n",
       "      <th>(19.999, 32.0]</th>\n",
       "      <td>0.026140</td>\n",
       "      <td>-0.026140</td>\n",
       "    </tr>\n",
       "    <tr>\n",
       "      <th>(32.0, 47.0]</th>\n",
       "      <td>-0.005098</td>\n",
       "      <td>0.005098</td>\n",
       "    </tr>\n",
       "    <tr>\n",
       "      <th>(47.0, 63.0]</th>\n",
       "      <td>-0.021042</td>\n",
       "      <td>0.021042</td>\n",
       "    </tr>\n",
       "  </tbody>\n",
       "</table>\n",
       "</div>"
      ],
      "text/plain": [
       "applied_app     Did NOT submit an application to OHP  \\\n",
       "ageg                                                   \n",
       "(19.999, 32.0]                              0.026140   \n",
       "(32.0, 47.0]                               -0.005098   \n",
       "(47.0, 63.0]                               -0.021042   \n",
       "\n",
       "applied_app     Submitted an Application to OHP  \n",
       "ageg                                             \n",
       "(19.999, 32.0]                        -0.026140  \n",
       "(32.0, 47.0]                           0.005098  \n",
       "(47.0, 63.0]                           0.021042  "
      ]
     },
     "execution_count": 24,
     "metadata": {},
     "output_type": "execute_result"
    }
   ],
   "source": [
    "resid = probs - ind\n",
    "resid"
   ]
  },
  {
   "cell_type": "markdown",
   "metadata": {},
   "source": [
    "The differences above are almost 3 percentage points.  Later in the\n",
    "course we will learn to more formally assess whether such are large\n",
    "enough to suggest that the random variables in the underlying\n",
    "population are statistically dependent.  Also note that the\n",
    "differences above are a form of residual and therefore sum to zero."
   ]
  },
  {
   "cell_type": "code",
   "execution_count": 25,
   "metadata": {},
   "outputs": [
    {
     "data": {
      "text/plain": [
       "-8.326672684688674e-17"
      ]
     },
     "execution_count": 25,
     "metadata": {},
     "output_type": "execute_result"
    }
   ],
   "source": [
    "resid.sum().sum()"
   ]
  },
  {
   "cell_type": "markdown",
   "metadata": {},
   "source": [
    "# Conditional independence"
   ]
  },
  {
   "cell_type": "markdown",
   "metadata": {},
   "source": [
    "Finally we consider the possible dependence between age group and\n",
    "'applied_app', already discussed above, but turn now to the question\n",
    "of whether their dependence changes when conditioning on a third\n",
    "variable, 'zip_msa_list'.  This variable indicates whether the\n",
    "individual lives in a rural or urban area."
   ]
  },
  {
   "cell_type": "code",
   "execution_count": 26,
   "metadata": {},
   "outputs": [],
   "source": [
    "urban = dx.loc[dx[\"zip_msa_list\"] == \"Zip code of residence in a MSA\", :]\n",
    "rural = dx.loc[dx[\"zip_msa_list\"] == \"Zip code of residence NOT in a MSA\", :]"
   ]
  },
  {
   "cell_type": "markdown",
   "metadata": {},
   "source": [
    "Below we calculate the closest exactly independent joint\n",
    "distribution to the observed joint distribution for rural people."
   ]
  },
  {
   "cell_type": "code",
   "execution_count": 27,
   "metadata": {},
   "outputs": [],
   "source": [
    "rural_counts = rural.groupby([\"ageg\", \"applied_app\"]).size().unstack()\n",
    "rural_probs = rural_counts / rural_counts.sum().sum()\n",
    "rural_ind = np.outer(rural_probs.sum(1), rural_probs.sum(0))"
   ]
  },
  {
   "cell_type": "markdown",
   "metadata": {},
   "source": [
    "Now we calculate the closest exactly independent joint distribution\n",
    "to the observed joint distribution for urban people."
   ]
  },
  {
   "cell_type": "code",
   "execution_count": 28,
   "metadata": {},
   "outputs": [],
   "source": [
    "urban_counts = urban.groupby([\"ageg\", \"applied_app\"]).size().unstack()\n",
    "urban_probs = urban_counts / urban_counts.sum().sum()\n",
    "urban_ind = np.outer(urban_probs.sum(1), urban_probs.sum(0))"
   ]
  },
  {
   "cell_type": "markdown",
   "metadata": {},
   "source": [
    "Next we form residuals."
   ]
  },
  {
   "cell_type": "code",
   "execution_count": 29,
   "metadata": {},
   "outputs": [],
   "source": [
    "rural_resid = rural_probs - rural_ind\n",
    "urban_resid = urban_probs - urban_ind"
   ]
  },
  {
   "cell_type": "markdown",
   "metadata": {},
   "source": [
    "At this point we can only inspect these residuals, which are\n",
    "specific to either rural or urban people, and compare them to\n",
    "residuals for all people calculated above.  If the stratified\n",
    "residuals (for urban or rural people) tended to be much smaller than\n",
    "the unstratified residuals, then we might conclude that any\n",
    "dependence between age and whether a person applies for insurance\n",
    "('applied_app') is removed by conditioning on rurality\n",
    "('zip_msa_list'). In this case, this does not seem to hold.  Later\n",
    "in the course we will consider more formal ways for making this\n",
    "assessment.  At this point, we must rely on our subjective\n",
    "judgment."
   ]
  }
 ],
 "metadata": {
  "jupytext": {
   "cell_metadata_filter": "-all",
   "main_language": "python",
   "notebook_metadata_filter": "-all"
  },
  "kernelspec": {
   "display_name": "Python 3",
   "language": "python",
   "name": "python3"
  },
  "language_info": {
   "codemirror_mode": {
    "name": "ipython",
    "version": 3
   },
   "file_extension": ".py",
   "mimetype": "text/x-python",
   "name": "python",
   "nbconvert_exporter": "python",
   "pygments_lexer": "ipython3",
   "version": "3.8.8"
  }
 },
 "nbformat": 4,
 "nbformat_minor": 2
}
