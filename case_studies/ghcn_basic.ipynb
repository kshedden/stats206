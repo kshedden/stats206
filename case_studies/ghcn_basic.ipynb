{
 "cells": [
  {
   "cell_type": "markdown",
   "metadata": {},
   "source": [
    "# Global historical temperature"
   ]
  },
  {
   "cell_type": "markdown",
   "metadata": {},
   "source": [
    "The US National Atmospheric and Oceanic Administration (NOAA)\n",
    "maintains a large curated collection of weather data called the\n",
    "\"Global Historical Climatology Network\", or GHCN. The data we\n",
    "consider here are a subset of the GHCN, consisting of daily maximum\n",
    "and minimum temperatures, recorded at roughly 180 locations\n",
    "(stations) around the world."
   ]
  },
  {
   "cell_type": "markdown",
   "metadata": {},
   "source": [
    "The daily maximum temperature ('tmax') is the highest temperature\n",
    "recorded at a specific location, over one 24-hour day.  The daily\n",
    "minimum temperature ('tmin') is the lowest temperature recorded\n",
    "at a specific location, over one 24-hour day.  Typically the\n",
    "highest temperature will occur in early afternoon, and the \n",
    "lowest temperature will occur in early morning, but the dataset\n",
    "does not contain the exact time within a day at which the\n",
    "minimum and maximum temperatures were recorded."
   ]
  },
  {
   "cell_type": "markdown",
   "metadata": {},
   "source": [
    "In addition to the temperature data, we also have the latitude,\n",
    "longitude, and elevation of each station.  "
   ]
  },
  {
   "cell_type": "markdown",
   "metadata": {},
   "source": [
    "These data can be used to address a number of important questions \n",
    "relating to variation in weather and climate over time and in \n",
    "different geographic locations."
   ]
  },
  {
   "cell_type": "markdown",
   "metadata": {},
   "source": [
    "The data considered here are all quantitative.  Therefore we will be\n",
    "using methods for analyzing quantitative data, including measures of\n",
    "location and scale, scatterplots, boxplots, and scatterplot\n",
    "smoothing."
   ]
  },
  {
   "cell_type": "markdown",
   "metadata": {},
   "source": [
    "These are the modules that we will be using:"
   ]
  },
  {
   "cell_type": "code",
   "execution_count": null,
   "metadata": {},
   "outputs": [],
   "source": [
    "import pandas as pd\n",
    "import numpy as np\n",
    "import matplotlib.pyplot as plt\n",
    "import seaborn as sns\n",
    "import statsmodels.api as sm\n",
    "import os"
   ]
  },
  {
   "cell_type": "markdown",
   "metadata": {},
   "source": [
    "The following code is needed to make plots using timestamp data."
   ]
  },
  {
   "cell_type": "code",
   "execution_count": null,
   "metadata": {},
   "outputs": [],
   "source": [
    "from pandas.plotting import register_matplotlib_converters\n",
    "register_matplotlib_converters()"
   ]
  },
  {
   "cell_type": "markdown",
   "metadata": {},
   "source": [
    "Modify this string according to your section number (001 or 002):"
   ]
  },
  {
   "cell_type": "code",
   "execution_count": null,
   "metadata": {},
   "outputs": [],
   "source": [
    "f = \"stats206s002f21\""
   ]
  },
  {
   "cell_type": "markdown",
   "metadata": {},
   "source": [
    "Next we read the data from a file."
   ]
  },
  {
   "cell_type": "code",
   "execution_count": null,
   "metadata": {},
   "outputs": [],
   "source": [
    "base = \"/scratch/%s_class_root/%s_class/shared_data/datasets\" % (f, f)\n",
    "df = pd.read_csv(os.path.join(base, \"ghcnd_gsn.csv.gz\"))\n",
    "print(df.shape)"
   ]
  },
  {
   "cell_type": "markdown",
   "metadata": {},
   "source": [
    "We need to convert the date variable to a timestamp, otherwise it\n",
    "will be in text format which is not as easy to work with."
   ]
  },
  {
   "cell_type": "code",
   "execution_count": null,
   "metadata": {},
   "outputs": [],
   "source": [
    "df[\"date\"] = pd.to_datetime(df[\"date\"])"
   ]
  },
  {
   "cell_type": "markdown",
   "metadata": {},
   "source": [
    "It can be useful to insert logic checks such as the one below into\n",
    "your code.  The minimum temperature at one location for one day can\n",
    "never be greater than the maximum temperature for the same location\n",
    "on the same day."
   ]
  },
  {
   "cell_type": "code",
   "execution_count": null,
   "metadata": {},
   "outputs": [],
   "source": [
    "assert(all(df.tmax >= df.tmin))"
   ]
  },
  {
   "cell_type": "markdown",
   "metadata": {},
   "source": [
    "The data records for different stations start and end at different\n",
    "times.  The average station has around 43 years of data.  The\n",
    "following plot shows us the beginning and end of the data record for\n",
    "each station"
   ]
  },
  {
   "cell_type": "code",
   "execution_count": null,
   "metadata": {},
   "outputs": [],
   "source": [
    "df[\"year\"] = df[\"date\"].dt.year\n",
    "r = df.groupby(\"id\")[\"year\"].agg([\"min\", \"max\"])\n",
    "plt.clf()\n",
    "sns.scatterplot(x=\"min\", y=\"max\", ci=None, data=r)\n",
    "plt.xlabel(\"First year\", size=15)\n",
    "plt.ylabel(\"Last year\", size=15)"
   ]
  },
  {
   "cell_type": "markdown",
   "metadata": {},
   "source": [
    "The above plot shows us that most of the stations in our dataset\n",
    "have data going up to 2019 or 2020, although a few stop much\n",
    "earlier.  However the starting years vary substantially among the\n",
    "stations.  Note that this plot shows the date of the earliest and\n",
    "latest record for each station, but there is no guarantee that there\n",
    "is data for every single day between these two dates."
   ]
  },
  {
   "cell_type": "markdown",
   "metadata": {},
   "source": [
    "Below we plot the locations of the stations.  Looking closely, you\n",
    "should be able to see that the stations fall on all seven\n",
    "continents."
   ]
  },
  {
   "cell_type": "code",
   "execution_count": null,
   "metadata": {},
   "outputs": [],
   "source": [
    "plt.clf()\n",
    "dx = df.loc[:, [\"lon\", \"lat\"]].drop_duplicates()\n",
    "print(df.shape)\n",
    "print(dx.shape)\n",
    "sns.scatterplot(x=\"lon\", y=\"lat\", ci=None, data=dx)\n",
    "plt.xlabel(\"Longitude\", size=15)\n",
    "plt.ylabel(\"Latitude\", size=15)"
   ]
  },
  {
   "cell_type": "markdown",
   "metadata": {},
   "source": [
    "As an initial analysis, we take the stations that are at a similar\n",
    "latitude to Ann Arbor, Michigan (between 40 and 45 degrees north\n",
    "latitude).  We then stratify by month, and make boxplots showing the\n",
    "distributions of daily maximum temperatures within each month for\n",
    "these stations."
   ]
  },
  {
   "cell_type": "code",
   "execution_count": null,
   "metadata": {},
   "outputs": [],
   "source": [
    "dx = df.loc[(df[\"lat\"] >= 40) & (df[\"lat\"] <= 45), :].copy()\n",
    "print(dx[\"id\"].unique().size)\n",
    "dx[\"month\"] = dx[\"date\"].dt.month\n",
    "sns.boxplot(x=\"month\", y=\"tmax\", data=dx)"
   ]
  },
  {
   "cell_type": "markdown",
   "metadata": {},
   "source": [
    "The boxplots above show the expected pattern of temperature\n",
    "variation throughout the year.  Specifically, the median and both\n",
    "the 25th and 75th percentiles exhibit lower temperatures in the\n",
    "winter and warmer temperatures in the summer.  While this is the\n",
    "most prominent feature of the above plot, it is also notable that\n",
    "the dispersion is greater in the winter than in the summer.  As an\n",
    "example of why this difference in dispersions (\"heteroscedasticity\")\n",
    "exists, consider Portland, Oregon and Ann Arbor, Michigan, which are\n",
    "at similar latitudes.  However Portland is near the Pacific Ocean\n",
    "which moderates its temerature, especially in winter.  While Ann\n",
    "Arbor typically has temperatures that remain below zero during\n",
    "January, Portland does not.  On the other hand, Portland and Ann\n",
    "Arbor have quite similar temperatures in the summer."
   ]
  },
  {
   "cell_type": "markdown",
   "metadata": {},
   "source": [
    "By contrast to the above plot, if we select stations near the\n",
    "equator we get a very different result:"
   ]
  },
  {
   "cell_type": "code",
   "execution_count": null,
   "metadata": {},
   "outputs": [],
   "source": [
    "dx = df.loc[(df[\"lat\"] >= -10) & (df[\"lat\"] <= 10), :].copy()\n",
    "print(dx[\"id\"].unique().size)\n",
    "dx[\"month\"] = dx[\"date\"].dt.month\n",
    "sns.boxplot(x=\"month\", y=\"tmax\", data=dx)"
   ]
  },
  {
   "cell_type": "markdown",
   "metadata": {},
   "source": [
    "## Annual temperature extremes"
   ]
  },
  {
   "cell_type": "markdown",
   "metadata": {},
   "source": [
    "In any given location, within each year the \"temperature extremes\"\n",
    "are the coldest and warmest temperatures that occur.  Next we\n",
    "compute these extremes.  Specifically, we calculate the minimum of\n",
    "the daily minimum temperatures, and the maximum of the daily maximum\n",
    "temperatures, over all days within each year at each station.  The\n",
    "result is a summarized dataset that contains two numbers for each\n",
    "station/year, corresponding to the coldest and warmest temperatures\n",
    "recorded at that location in one specific year."
   ]
  },
  {
   "cell_type": "code",
   "execution_count": null,
   "metadata": {},
   "outputs": [],
   "source": [
    "r = df.groupby([\"id\", \"year\"]).aggregate({\"tmax\": np.max, \"tmin\": np.min, \"lat\": \"first\", \"elev\": \"first\"})\n",
    "r = r.reset_index()\n",
    "print(r.shape)"
   ]
  },
  {
   "cell_type": "markdown",
   "metadata": {},
   "source": [
    "Next we make a scatterplot showing the relationship between the\n",
    "maximum temperature extreme, at each location/year and the latitude\n",
    "of the location. Since there are many points, we plot with a small\n",
    "alpha (transparency) value to reduce overplotting."
   ]
  },
  {
   "cell_type": "code",
   "execution_count": null,
   "metadata": {},
   "outputs": [],
   "source": [
    "sns.scatterplot(x=\"lat\", y=\"tmax\", ci=None, alpha=0.2, data=r)\n",
    "plt.ylabel(\"tmax\")\n",
    "plt.grid(True)"
   ]
  },
  {
   "cell_type": "markdown",
   "metadata": {},
   "source": [
    "This plot becomes more informative if we include an estimate of the\n",
    "conditional mean trend, obtained using the lowess procedure:"
   ]
  },
  {
   "cell_type": "code",
   "execution_count": null,
   "metadata": {},
   "outputs": [],
   "source": [
    "r[\"tmax_smooth_lat\"] = sm.nonparametric.lowess(r[\"tmax\"], r[\"lat\"], frac=0.2, return_sorted=False)\n",
    "sns.scatterplot(x=\"lat\", y=\"tmax\", ci=None, alpha=0.2, data=r)\n",
    "sns.lineplot(x=\"lat\", y=\"tmax_smooth_lat\", color=\"orange\", ci=None, data=r)\n",
    "plt.ylabel(\"tmax\")\n",
    "plt.grid(True)"
   ]
  },
  {
   "cell_type": "markdown",
   "metadata": {},
   "source": [
    "The pattern above reflects the fact that temperatures are warmest in\n",
    "the tropical bands just north and south of the equator, and decrease\n",
    "as we move toward either the north or the south pole.  Locations\n",
    "very close to the equator are slightly cooler than areas around 25\n",
    "degrees north or south of the equator."
   ]
  },
  {
   "cell_type": "markdown",
   "metadata": {},
   "source": [
    "We can also consider the relationship between maximum temperature\n",
    "and elevation."
   ]
  },
  {
   "cell_type": "code",
   "execution_count": null,
   "metadata": {},
   "outputs": [],
   "source": [
    "r[\"tmax_smooth_elev\"] = sm.nonparametric.lowess(r[\"tmax\"], r[\"elev\"], return_sorted=False)\n",
    "sns.scatterplot(x=\"elev\", y=\"tmax\", ci=None, alpha=0.2, data=r)\n",
    "sns.lineplot(x=\"elev\", y=\"tmax_smooth_elev\", color=\"orange\", ci=None, data=r)\n",
    "plt.ylabel(\"tmax\")\n",
    "plt.grid(True)\n",
    "plt.ylim(ymin=0)"
   ]
  },
  {
   "cell_type": "markdown",
   "metadata": {},
   "source": [
    "Here we see that the conditional mean of the annual maximum\n",
    "temperature is highest at moderate elevation, lower near zero\n",
    "elevation, which tends to be in coastal areas, and very low at high\n",
    "elevations.  Locations at very low elevation tend to be near the\n",
    "ocean, and as a result have somewhat moderated temperatures compared\n",
    "to more inland regions."
   ]
  },
  {
   "cell_type": "markdown",
   "metadata": {},
   "source": [
    "### Scatter and conditional dispersion"
   ]
  },
  {
   "cell_type": "markdown",
   "metadata": {},
   "source": [
    "The \"scatter\" in a scatterplot reflects the degree of conditional\n",
    "dispersion of the data values around the mean.  In the plot above\n",
    "that shows maximum temperature in relation to latitude, we see\n",
    "somewhat less dispersion near the equator."
   ]
  },
  {
   "cell_type": "markdown",
   "metadata": {},
   "source": [
    "To investigate the conditional dispersion more formally, we can make\n",
    "a scatterplot of the absolute values of the residuals, and smooth it\n",
    "using lowess. To make residuals in a scatterplot, we take the\n",
    "variable that is plotted on the vertical axis, and subtract from it\n",
    "its fitted value obtained using lowess.  By then smoothing the\n",
    "absolute residuals, we are estimating the dispersion \"local\" to each\n",
    "latitude value.  We will limit the vertical axis range to more\n",
    "clearly see the shape of the smoothed curve."
   ]
  },
  {
   "cell_type": "code",
   "execution_count": null,
   "metadata": {},
   "outputs": [],
   "source": [
    "r[\"resid\"] = r[\"tmax\"] - r[\"tmax_smooth_lat\"]\n",
    "r[\"absresid\"] = np.abs(r[\"resid\"])\n",
    "r[\"absresid_smooth\"] = sm.nonparametric.lowess(r[\"absresid\"], r[\"lat\"], frac=0.2, return_sorted=False)\n",
    "plt.clf()\n",
    "sns.scatterplot(x=\"lat\", y=\"absresid\", alpha=0.2, data=r)\n",
    "sns.lineplot(x=\"lat\", y=\"absresid_smooth\", color=\"orange\", ci=None, data=r)\n",
    "plt.grid(True)\n",
    "plt.ylim(0, 20)\n",
    "plt.ylabel(\"Absolute residual\")"
   ]
  },
  {
   "cell_type": "markdown",
   "metadata": {},
   "source": [
    "The above plot shows us that there are two regions of low\n",
    "dispersion, one near the equator, and one at around 40 degrees north\n",
    "latitude.  The dispersion in these locations is around half of the\n",
    "peak dispersion, which is at around 40 degrees south latitude.  Note\n",
    "that the minimum at 40N is hard to see from the scatterplot.  This\n",
    "is a situation where visual assessment is misleading due to\n",
    "overplotting.  When the density of points is very high, it is very\n",
    "difficult to visually judge the degree of dispersion.\n",
    "\n",
    "The dispersion minimum near the equator is easier to explain --\n",
    "there aren't many deserts or high mountains near the equator, so\n",
    "most equatorial locations reach maximum annual temperatures of\n",
    "around 35C. Moving away from the equator, there is more diversity in\n",
    "the topography, which leads to more variation in the climate.  The\n",
    "dispersion minimum near 40N is more difficult to explain.  It may be\n",
    "due to the selection of stations.  Note from the histogram below\n",
    "that the largest number of stations in our dataset occur between 40N\n",
    "and 60N, as this is where the greatest share of the Earth's landmass\n",
    "lies."
   ]
  },
  {
   "cell_type": "code",
   "execution_count": null,
   "metadata": {},
   "outputs": [],
   "source": [
    "plt.clf()\n",
    "sns.histplot(df.lat)"
   ]
  },
  {
   "cell_type": "markdown",
   "metadata": {},
   "source": [
    "## Daily temperature range"
   ]
  },
  {
   "cell_type": "markdown",
   "metadata": {},
   "source": [
    "Now we turn to looking at the range of temperatures within a day,\n",
    "known as \"diurnal temperature variation\".  This range can be\n",
    "obtained by subtracting the daily minimum from the daily maximum\n",
    "temperature, both of which are variables in our dataset.  We can\n",
    "then explore whether the variation in the daily temperature range is\n",
    "related to the latitude, longitude, or elevation of the station."
   ]
  },
  {
   "cell_type": "code",
   "execution_count": null,
   "metadata": {},
   "outputs": [],
   "source": [
    "df[\"range\"] = df[\"tmax\"] - df[\"tmin\"]"
   ]
  },
  {
   "cell_type": "markdown",
   "metadata": {},
   "source": [
    "The behavior of temperature ranges differs by season.  To control\n",
    "for that effect, we select only data from June for this analysis."
   ]
  },
  {
   "cell_type": "code",
   "execution_count": null,
   "metadata": {},
   "outputs": [],
   "source": [
    "dx = df.loc[df.date.dt.month==6, :].copy()"
   ]
  },
  {
   "cell_type": "markdown",
   "metadata": {},
   "source": [
    "The next plot shows us how the daily temperature range relates to\n",
    "the latitude at which a station is located.  Note that here we are\n",
    "running the lowess algorithm directly rather than letting Seaborn\n",
    "call it for us.  This gives us more control over how the algorithm\n",
    "runs."
   ]
  },
  {
   "cell_type": "code",
   "execution_count": null,
   "metadata": {},
   "outputs": [],
   "source": [
    "plt.clf()\n",
    "dx[\"range_smooth\"] = sm.nonparametric.lowess(dx[\"range\"], dx[\"lat\"], return_sorted=False)\n",
    "sns.scatterplot(x=\"lat\", y=\"range\", alpha=0.2, data=dx)\n",
    "sns.lineplot(x=\"lat\", y=\"range_smooth\", color=\"orange\", ci=None, data=dx)\n",
    "plt.grid(True)"
   ]
  },
  {
   "cell_type": "markdown",
   "metadata": {},
   "source": [
    "The next plot shows us how the daily temperature range relates to\n",
    "the longitude at which a station is located."
   ]
  },
  {
   "cell_type": "code",
   "execution_count": null,
   "metadata": {},
   "outputs": [],
   "source": [
    "plt.clf()\n",
    "dx[\"range_smooth\"] = sm.nonparametric.lowess(dx[\"range\"], dx[\"lon\"], return_sorted=False)\n",
    "sns.scatterplot(x=\"lon\", y=\"range\", alpha=0.2, data=dx)\n",
    "sns.lineplot(x=\"lon\", y=\"range_smooth\", color=\"orange\", ci=None, data=dx)\n",
    "plt.grid(True)"
   ]
  },
  {
   "cell_type": "markdown",
   "metadata": {},
   "source": [
    "This plot shows us how the daily temperature range relates to the\n",
    "elevation at which a station is located."
   ]
  },
  {
   "cell_type": "code",
   "execution_count": null,
   "metadata": {},
   "outputs": [],
   "source": [
    "plt.clf()\n",
    "dx[\"range_smooth\"] = sm.nonparametric.lowess(dx[\"range\"], dx[\"elev\"], return_sorted=False)\n",
    "sns.scatterplot(x=\"elev\", y=\"range\", alpha=0.2, data=dx)\n",
    "sns.lineplot(x=\"elev\", y=\"range_smooth\", color=\"orange\", ci=None, data=dx)\n",
    "plt.grid(True)"
   ]
  },
  {
   "cell_type": "markdown",
   "metadata": {},
   "source": [
    "The three plots above show that the stations with high latitude or\n",
    "low elevation tend to have smaller within-day temperature ranges\n",
    "than the other stations during the month of June.  The low-elevation\n",
    "stations are near the ocean, and the ocean tends to moderate the\n",
    "temperature difference between night and day.  We also found that\n",
    "locations at higher (more northern) latitudes have somewhat less\n",
    "diurnal variation.  There are several reasons for this, including\n",
    "humidity, cloud cover, and the long duration of the solar day at\n",
    "high latitudes in summer."
   ]
  },
  {
   "cell_type": "markdown",
   "metadata": {},
   "source": [
    "If you are interested in this topic, see\n",
    "[here](https://en.m.wikipedia.org/wiki/Diurnal_temperature_variation)\n",
    "for more information about diurnal temperature variation."
   ]
  }
 ],
 "metadata": {
  "jupytext": {
   "cell_metadata_filter": "-all",
   "main_language": "python",
   "notebook_metadata_filter": "-all"
  }
 },
 "nbformat": 4,
 "nbformat_minor": 2
}
