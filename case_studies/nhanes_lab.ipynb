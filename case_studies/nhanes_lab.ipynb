{
 "cells": [
  {
   "cell_type": "markdown",
   "metadata": {},
   "source": [
    "# Workbook for NHANES data"
   ]
  },
  {
   "cell_type": "code",
   "execution_count": null,
   "metadata": {},
   "outputs": [],
   "source": [
    "import numpy as np\n",
    "import pandas as pd\n",
    "import seaborn as sns\n",
    "import matplotlib.pyplot as plt\n",
    "import os"
   ]
  },
  {
   "cell_type": "code",
   "execution_count": null,
   "metadata": {},
   "outputs": [],
   "source": [
    "np.random.seed(34324)"
   ]
  },
  {
   "cell_type": "code",
   "execution_count": null,
   "metadata": {},
   "outputs": [],
   "source": [
    "f = \"stats206s002f21\"\n",
    "base = \"/scratch/%s_class_root/%s_class/shared_data/datasets\" % (f, f)\n",
    "df = pd.read_csv(os.path.join(base, \"nhanes.csv.gz\"))\n",
    "df = df.loc[df[\"RIDAGEYR\"] >= 18, :]\n",
    "df = df.dropna()"
   ]
  },
  {
   "cell_type": "markdown",
   "metadata": {},
   "source": [
    "BMI is defined to be the ratio of weight in kilograms to the\n",
    "square of height in meters.  With this in mind, what would\n",
    "you expect to see for the correlation coefficient between\n",
    "BMI and weight, and the correlation coefficient between BMI\n",
    "and height?  Just think qualitatively, e.g. \"a big positive\n",
    "number\" or \"a small negative number\" or \"something close to\n",
    "zero\"."
   ]
  },
  {
   "cell_type": "code",
   "execution_count": null,
   "metadata": {},
   "outputs": [],
   "source": [
    "0"
   ]
  },
  {
   "cell_type": "markdown",
   "metadata": {},
   "source": [
    "Calculate the correlation coefficients between BMI and weight,\n",
    "and between BMI and height, over all subjects."
   ]
  },
  {
   "cell_type": "code",
   "execution_count": null,
   "metadata": {},
   "outputs": [],
   "source": [
    "0"
   ]
  },
  {
   "cell_type": "markdown",
   "metadata": {},
   "source": [
    "Log transform height, weight, and BMI, and calculate the same\n",
    "correlation coefficients as in the previous cell."
   ]
  },
  {
   "cell_type": "code",
   "execution_count": null,
   "metadata": {},
   "outputs": [],
   "source": [
    "0"
   ]
  },
  {
   "cell_type": "markdown",
   "metadata": {},
   "source": [
    "Stratify the dataset into four age groups (using qcut).  Then, \n",
    "determine the correlation coefficient between weight and BMI \n",
    "within each age group.  Which age group has the strongest \n",
    "correlation?"
   ]
  },
  {
   "cell_type": "code",
   "execution_count": null,
   "metadata": {},
   "outputs": [],
   "source": [
    "0"
   ]
  },
  {
   "cell_type": "markdown",
   "metadata": {},
   "source": [
    "Create three BMI groups of approximately equal size using qcut.\n",
    "Then construct a 4 x 3 contingency table between age group (as \n",
    "calculated above) and BMI group."
   ]
  },
  {
   "cell_type": "code",
   "execution_count": null,
   "metadata": {},
   "outputs": [],
   "source": [
    "0"
   ]
  },
  {
   "cell_type": "markdown",
   "metadata": {},
   "source": [
    "Calculate the probabilities (proportions) corresponding to the\n",
    "counts in the previous cell."
   ]
  },
  {
   "cell_type": "code",
   "execution_count": null,
   "metadata": {},
   "outputs": [],
   "source": [
    "0"
   ]
  },
  {
   "cell_type": "markdown",
   "metadata": {},
   "source": [
    "Calculate the closest independent distribution to the probabilities\n",
    "calculated in the previous cell."
   ]
  },
  {
   "cell_type": "code",
   "execution_count": null,
   "metadata": {},
   "outputs": [],
   "source": [
    "0"
   ]
  },
  {
   "cell_type": "markdown",
   "metadata": {},
   "source": [
    "Calculate the Pearson residuals for the age group by BMI group\n",
    "cross classification."
   ]
  },
  {
   "cell_type": "code",
   "execution_count": null,
   "metadata": {},
   "outputs": [],
   "source": [
    "0"
   ]
  },
  {
   "cell_type": "markdown",
   "metadata": {},
   "source": [
    "Restrict the dataset to females between the ages of 18 and 70.\n",
    "Calculate the mean height (BMXHT), the variance of the height, and\n",
    "the sample size for this subset of the data.  Then calculate the\n",
    "standard error of the mean for the mean height in this subsample."
   ]
  },
  {
   "cell_type": "code",
   "execution_count": null,
   "metadata": {},
   "outputs": [],
   "source": [
    "0"
   ]
  },
  {
   "cell_type": "markdown",
   "metadata": {},
   "source": [
    "Use the method `round(-1)` to create a variable that indicates a\n",
    "person's decade of age.  Then use `groupby` to calculate the sample\n",
    "size, standard deviation, and standard error of the mean (SEM) for\n",
    "height (BMXHT) within each decade.  Note which decade has the\n",
    "largest SEM, and consider whether this SEM being large is due to the\n",
    "standard deviation (SD) or the sample size."
   ]
  },
  {
   "cell_type": "code",
   "execution_count": null,
   "metadata": {},
   "outputs": [],
   "source": [
    "0"
   ]
  },
  {
   "cell_type": "markdown",
   "metadata": {},
   "source": [
    "Use a loop to generate 100 random subsets of size 50 from the height data\n",
    "selected above.  Calculate the sample mean and sample variance of\n",
    "each subset.  Then take the variance of the sample mean, the\n",
    "variance of the sample variances, and the mean of the sample\n",
    "variances.  How are these values related?  "
   ]
  },
  {
   "cell_type": "code",
   "execution_count": null,
   "metadata": {},
   "outputs": [],
   "source": [
    "0"
   ]
  },
  {
   "cell_type": "markdown",
   "metadata": {},
   "source": [
    "Repeate the exercise from the previous cell using samples of size 200 \n",
    "and consider how the results change."
   ]
  },
  {
   "cell_type": "code",
   "execution_count": null,
   "metadata": {},
   "outputs": [],
   "source": [
    "0"
   ]
  },
  {
   "cell_type": "markdown",
   "metadata": {},
   "source": [
    "Use a loop to calculate the sample correlation coefficient between\n",
    "BMI (BMXBMI) and blood pressure (BPXSY1), for the first `k`\n",
    "observations in the dataset.  The loop should run over values of `k`\n",
    "from 10 to the total sample size.  Plot these correlations against\n",
    "`k` and consider what result from probability theory is being\n",
    "illustrated here."
   ]
  },
  {
   "cell_type": "code",
   "execution_count": null,
   "metadata": {},
   "outputs": [],
   "source": [
    "0"
   ]
  },
  {
   "cell_type": "markdown",
   "metadata": {},
   "source": [
    "Sample 50 females at random and 50 males at random, then calculate\n",
    "the sample mean and sample standard deviation for systolic blood\n",
    "pressure within each of these two samples.  Calculate the difference\n",
    "between these two means, and calculate the standard error for this\n",
    "difference.  Place this all into a loop that iterates 200 times.\n",
    "Once the loop has completed, calculate the standard deviation of the\n",
    "200 mean differences, and the mean of the 200 standard errors.  Use\n",
    "these results to assess the validity of your standard error\n",
    "calculation."
   ]
  },
  {
   "cell_type": "code",
   "execution_count": null,
   "metadata": {},
   "outputs": [],
   "source": [
    "0"
   ]
  }
 ],
 "metadata": {
  "jupytext": {
   "cell_metadata_filter": "-all",
   "main_language": "python",
   "notebook_metadata_filter": "-all"
  }
 },
 "nbformat": 4,
 "nbformat_minor": 2
}
