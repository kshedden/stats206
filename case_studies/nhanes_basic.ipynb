{
 "cells": [
  {
   "cell_type": "markdown",
   "metadata": {},
   "source": [
    "# NHANES"
   ]
  },
  {
   "cell_type": "markdown",
   "metadata": {},
   "source": [
    "The National Health and Nutrition Examination Survey (NHANES) is a\n",
    "cross sectional observational study run every 2-3 years by the\n",
    "United States Centers for Disease Control (CDC).  It collects\n",
    "extensive demographic and health-related data on a representative\n",
    "sample of the US population."
   ]
  },
  {
   "cell_type": "markdown",
   "metadata": {},
   "source": [
    "In this notebook, we will use the NHANES data to illustrate\n",
    "important concepts relating to association, sampling distributions,\n",
    "standard errors, the law of large numbers, and the central limit\n",
    "theorem."
   ]
  },
  {
   "cell_type": "markdown",
   "metadata": {},
   "source": [
    "First we import the libraries that we will be using."
   ]
  },
  {
   "cell_type": "code",
   "execution_count": null,
   "metadata": {},
   "outputs": [],
   "source": [
    "import numpy as np\n",
    "import pandas as pd\n",
    "import seaborn as sns\n",
    "import matplotlib.pyplot as plt\n",
    "import os"
   ]
  },
  {
   "cell_type": "markdown",
   "metadata": {},
   "source": [
    "We will be simulating data in this notebook.  To make the results\n",
    "reproducible, we will set the seed of the random number generator to\n",
    "a fixed value."
   ]
  },
  {
   "cell_type": "code",
   "execution_count": null,
   "metadata": {},
   "outputs": [],
   "source": [
    "np.random.seed(34324)"
   ]
  },
  {
   "cell_type": "markdown",
   "metadata": {},
   "source": [
    "Modify this string according to your section number (001 or 002):"
   ]
  },
  {
   "cell_type": "code",
   "execution_count": null,
   "metadata": {},
   "outputs": [],
   "source": [
    "f = \"stats206s002f21\""
   ]
  },
  {
   "cell_type": "markdown",
   "metadata": {},
   "source": [
    "Now we load the NHANES data from a file."
   ]
  },
  {
   "cell_type": "code",
   "execution_count": null,
   "metadata": {},
   "outputs": [],
   "source": [
    "base = \"/scratch/%s_class_root/%s_class/shared_data/datasets\" % (f, f)\n",
    "df = pd.read_csv(os.path.join(base, \"nhanes.csv.gz\"))"
   ]
  },
  {
   "cell_type": "markdown",
   "metadata": {},
   "source": [
    "Many biological processes behave differently during development\n",
    "compared to in adulthood.  For this analysis, we will focus on\n",
    "people of age 18 or greater (RIDAGEYR contains each subject's age in\n",
    "years)."
   ]
  },
  {
   "cell_type": "code",
   "execution_count": null,
   "metadata": {},
   "outputs": [],
   "source": [
    "df = df.loc[df[\"RIDAGEYR\"] >= 18, :]"
   ]
  },
  {
   "cell_type": "markdown",
   "metadata": {},
   "source": [
    "# Correlation analyses of body size and blood pressure"
   ]
  },
  {
   "cell_type": "markdown",
   "metadata": {},
   "source": [
    "The Pearson correlation coefficient describes the association betwen\n",
    "two quantitative variables.  It mainly captures linear association,\n",
    "but can detect certain types of non-linear association as well.  The\n",
    "Pearson correlation coefficient is a numerical statistic that is\n",
    "closely related to the relationship shown in a scatterplot."
   ]
  },
  {
   "cell_type": "markdown",
   "metadata": {},
   "source": [
    "The following code calculates the Pearson correlation coefficient\n",
    "between height and weight.  Not surprisingly, there is a fairly\n",
    "strong positive association between these variables -- people who\n",
    "are taller tend to be heavier than people who are shorter."
   ]
  },
  {
   "cell_type": "code",
   "execution_count": null,
   "metadata": {},
   "outputs": [],
   "source": [
    "df.loc[:, [\"BMXHT\", \"BMXWT\"]].corr()"
   ]
  },
  {
   "cell_type": "markdown",
   "metadata": {},
   "source": [
    "Note that the Pearson correlation coefficient is symmetric, in the\n",
    "sense the cor(x, y) = cor(y, x)."
   ]
  },
  {
   "cell_type": "code",
   "execution_count": null,
   "metadata": {},
   "outputs": [],
   "source": [
    "df.loc[:, [\"BMXWT\", \"BMXHT\"]].corr()"
   ]
  },
  {
   "cell_type": "markdown",
   "metadata": {},
   "source": [
    "The corresponding scatterplot is shown below.  Setting the \"alpha\"\n",
    "value to a smaller number (the default is 1) creates some\n",
    "transparency behind each point, which reduces the effect of\n",
    "overplotting."
   ]
  },
  {
   "cell_type": "code",
   "execution_count": null,
   "metadata": {},
   "outputs": [],
   "source": [
    "sns.scatterplot(x=\"BMXWT\", y=\"BMXHT\", alpha=0.4, data=df)"
   ]
  },
  {
   "cell_type": "markdown",
   "metadata": {},
   "source": [
    "Throughout this course, we have seen that stratifying a dataset into\n",
    "more homogeneous subsets can reveal more informative and meaningful\n",
    "insights about the data.  Below we stratify on sex, and re-calculate\n",
    "the correlation coefficient between height and weight within female\n",
    "and within male subjects."
   ]
  },
  {
   "cell_type": "code",
   "execution_count": null,
   "metadata": {},
   "outputs": [],
   "source": [
    "females = df.loc[df[\"RIAGENDR\"] == 2, :]\n",
    "males = df.loc[df[\"RIAGENDR\"] == 1, :]"
   ]
  },
  {
   "cell_type": "code",
   "execution_count": null,
   "metadata": {},
   "outputs": [],
   "source": [
    "print(females[[\"BMXHT\", \"BMXWT\"]].corr())\n",
    "print(males[[\"BMXHT\", \"BMXWT\"]].corr())"
   ]
  },
  {
   "cell_type": "markdown",
   "metadata": {},
   "source": [
    "Here is a scatterplot that helps us to visualize these\n",
    "relationships.  Note that female heights are somewhat less variable\n",
    "than male heights, and the strength of the relationship between\n",
    "height and weight is weaker in females than in males."
   ]
  },
  {
   "cell_type": "code",
   "execution_count": null,
   "metadata": {},
   "outputs": [],
   "source": [
    "sns.scatterplot(x=\"BMXHT\", y=\"BMXWT\", hue=\"RIAGENDR\", alpha=0.4, data=df)"
   ]
  },
  {
   "cell_type": "markdown",
   "metadata": {},
   "source": [
    "Recall that the Pearson correlation between two variables is the\n",
    "same if we convert the variables to Z-scores:"
   ]
  },
  {
   "cell_type": "code",
   "execution_count": null,
   "metadata": {},
   "outputs": [],
   "source": [
    "df[\"BMXHT_Z\"] = (df[\"BMXHT\"] - df[\"BMXHT\"].mean()) / df[\"BMXHT\"].std()\n",
    "df[\"BMXWT_Z\"] = (df[\"BMXWT\"] - df[\"BMXWT\"].mean()) / df[\"BMXWT\"].std()"
   ]
  },
  {
   "cell_type": "code",
   "execution_count": null,
   "metadata": {},
   "outputs": [],
   "source": [
    "print(df[[\"BMXHT\", \"BMXWT\"]].corr())\n",
    "print(df[[\"BMXHT_Z\", \"BMXWT_Z\"]].corr())"
   ]
  },
  {
   "cell_type": "markdown",
   "metadata": {},
   "source": [
    "Further, after converting to Z-scores, the correlation is the\n",
    "\"product moment\" (don't worry about minor discrepancy between the\n",
    "correlations calculated above and below)."
   ]
  },
  {
   "cell_type": "code",
   "execution_count": null,
   "metadata": {},
   "outputs": [],
   "source": [
    "np.mean(df[\"BMXHT_Z\"] * df[\"BMXWT_Z\"])"
   ]
  },
  {
   "cell_type": "markdown",
   "metadata": {},
   "source": [
    "The product of two numbers is positive if and only if the two\n",
    "numbers have the same sign.  This means that when plotted in a\n",
    "scatterplot, the point falls into either quadrant 1 or 3."
   ]
  },
  {
   "cell_type": "markdown",
   "metadata": {},
   "source": [
    "When two variables have a positive correlation, there will tend to\n",
    "be more points in quadrants 1 and 3 (after centering the variables).\n",
    "This is indicated in the following plot."
   ]
  },
  {
   "cell_type": "code",
   "execution_count": null,
   "metadata": {},
   "outputs": [],
   "source": [
    "sns.scatterplot(x=\"BMXHT\", y=\"BMXWT\", hue=\"RIAGENDR\", alpha=0.4, data=df)"
   ]
  },
  {
   "cell_type": "markdown",
   "metadata": {},
   "source": [
    "Conversely, if two variables have a negative correlation, there will\n",
    "tend to be more points in quadrants 2 and 4.  Since height and\n",
    "weight are positively correlated, the majority of points are in\n",
    "quadrants 1 or 3 for these data."
   ]
  },
  {
   "cell_type": "code",
   "execution_count": null,
   "metadata": {},
   "outputs": [],
   "source": [
    "np.mean(df[\"BMXHT_Z\"] * df[\"BMXWT_Z\"] > 0)"
   ]
  },
  {
   "cell_type": "markdown",
   "metadata": {},
   "source": [
    "The correlations calculated above were mostly in the 0.3-0.4 range.\n",
    "These are substantial correlations, but fall far short of the upper\n",
    "limit of the correlation coefficient which is 1.  We have two\n",
    "variables in the dataset with correlation approaching this level,\n",
    "specifically, repeated measures of blood pressure on the same\n",
    "person.  These repeated blood pressure measures are named \"BPXSY1\",\n",
    "\"BPXSY2\", and \"BPXSY3\".  Blood pressure measures are \"volatile\", in\n",
    "that if you measure a person's blood pressure on two occasions, say\n",
    "30 minutes apart, there will be some difference between the two\n",
    "measures (which would be much less so with a more stable variable\n",
    "such as height or weight).  Two repeated measurements of the same\n",
    "variable (e.g. blood pressure) will almost always be more correlated\n",
    "than two measures of distinct variables (e.g. weight and height).\n",
    "Below is the correlation coefficient between the first two repeated\n",
    "blood pressure measures."
   ]
  },
  {
   "cell_type": "code",
   "execution_count": null,
   "metadata": {},
   "outputs": [],
   "source": [
    "df[[\"BPXSY1\", \"BPXSY2\"]].corr()"
   ]
  },
  {
   "cell_type": "markdown",
   "metadata": {},
   "source": [
    "Another way to get a sense for the similarity between two repeated\n",
    "measures of blood pressure is to take the median value (over the\n",
    "people) of the absolute value of the difference between the two\n",
    "blood pressure measures."
   ]
  },
  {
   "cell_type": "code",
   "execution_count": null,
   "metadata": {},
   "outputs": [],
   "source": [
    "x = (df[\"BPXSY1\"] - df[\"BPXSY2\"]).dropna()\n",
    "np.median(np.abs(x))"
   ]
  },
  {
   "cell_type": "markdown",
   "metadata": {},
   "source": [
    "We see that the two repeated measures of blood pressure are around 2\n",
    "units (mm Hg) apart.  In contrast, the difference in blood pressure\n",
    "between (as opposed to within) people is much larger:"
   ]
  },
  {
   "cell_type": "code",
   "execution_count": null,
   "metadata": {},
   "outputs": [],
   "source": [
    "bp1 = df[\"BPXSY1\"].dropna()\n",
    "np.median(np.abs(bp1 - np.median(bp1)))"
   ]
  },
  {
   "cell_type": "markdown",
   "metadata": {},
   "source": [
    "Yet another way to see this relationship is through a scatterplot."
   ]
  },
  {
   "cell_type": "code",
   "execution_count": null,
   "metadata": {},
   "outputs": [],
   "source": [
    "sns.scatterplot(x=\"BPXSY1\", y=\"BPXSY2\", data=df)"
   ]
  },
  {
   "cell_type": "markdown",
   "metadata": {},
   "source": [
    "## Associations between nominal variables"
   ]
  },
  {
   "cell_type": "markdown",
   "metadata": {},
   "source": [
    "Associations between nominal variables can be quantified using\n",
    "methods from basic probability that we have already developed.  The\n",
    "basic idea is to try to force the data to match an independent\n",
    "distribution.  If the data do not match any independent distribution\n",
    "very well, then we will judge them to be strongly associated, or\n",
    "dependent."
   ]
  },
  {
   "cell_type": "markdown",
   "metadata": {},
   "source": [
    "To begin, we construct a stratified age variable, which will have a\n",
    "nominal type, by constructing five age bins with roughly equal\n",
    "sample sizes.  The pandas method `qcut` stands for _quantile cut_,\n",
    "and is used to create a sequence of categories from a quantitative\n",
    "variable based on its quantiles."
   ]
  },
  {
   "cell_type": "code",
   "execution_count": null,
   "metadata": {},
   "outputs": [],
   "source": [
    "df[\"Age_strat\"] = pd.qcut(df[\"RIDAGEYR\"], 5)"
   ]
  },
  {
   "cell_type": "markdown",
   "metadata": {},
   "source": [
    "Next we form three strata of blood pressure."
   ]
  },
  {
   "cell_type": "code",
   "execution_count": null,
   "metadata": {},
   "outputs": [],
   "source": [
    "df[\"BP_strat\"] = pd.qcut(df[\"BPXSY1\"], 3)"
   ]
  },
  {
   "cell_type": "markdown",
   "metadata": {},
   "source": [
    "The following table shows the number of people in each cell of the\n",
    "\"contingency table\" for age and blood pressure."
   ]
  },
  {
   "cell_type": "code",
   "execution_count": null,
   "metadata": {},
   "outputs": [],
   "source": [
    "ct = df.groupby([\"Age_strat\", \"BP_strat\"]).size().unstack()\n",
    "ct"
   ]
  },
  {
   "cell_type": "markdown",
   "metadata": {},
   "source": [
    "We can obtain a joint distribution (containing proportions or\n",
    "estimated probabilities) by dividing this table by the total number\n",
    "of observations."
   ]
  },
  {
   "cell_type": "code",
   "execution_count": null,
   "metadata": {},
   "outputs": [],
   "source": [
    "probs = ct / ct.sum().sum()\n",
    "probs"
   ]
  },
  {
   "cell_type": "markdown",
   "metadata": {},
   "source": [
    "We already know how to obtain the marginal distributions for age and\n",
    "blood pressure:"
   ]
  },
  {
   "cell_type": "code",
   "execution_count": null,
   "metadata": {},
   "outputs": [],
   "source": [
    "age_marg = probs.sum(1)\n",
    "bp_marg = probs.sum(0)"
   ]
  },
  {
   "cell_type": "markdown",
   "metadata": {},
   "source": [
    "We have also already seen how to construct an exactly independent\n",
    "joint distribution between age and blood pressure (see the course\n",
    "notes on probability to review this if needed)."
   ]
  },
  {
   "cell_type": "code",
   "execution_count": null,
   "metadata": {},
   "outputs": [],
   "source": [
    "ind = np.outer(age_marg, bp_marg)\n",
    "ind"
   ]
  },
  {
   "cell_type": "markdown",
   "metadata": {},
   "source": [
    "The next step is to construct a table of counts that matches the\n",
    "observed sample size, and has proportions that are exactly\n",
    "independent."
   ]
  },
  {
   "cell_type": "code",
   "execution_count": null,
   "metadata": {},
   "outputs": [],
   "source": [
    "cnt = ind * ct.sum().sum()\n",
    "cnt"
   ]
  },
  {
   "cell_type": "markdown",
   "metadata": {},
   "source": [
    "The next cell calculates residuals between the observed counts\n",
    "within each age/BP cell, and the count that would be obtained if age\n",
    "and BP were exactly independent."
   ]
  },
  {
   "cell_type": "code",
   "execution_count": null,
   "metadata": {},
   "outputs": [],
   "source": [
    "res = ct - cnt\n",
    "res"
   ]
  },
  {
   "cell_type": "markdown",
   "metadata": {},
   "source": [
    "The table above already gives us some insight into the dependence\n",
    "between age and blood pressure, but a more informative way to view\n",
    "these results is by scaling each cell by the square root of the\n",
    "expected count.  We won't be able to fully justify this now, but the\n",
    "basic idea is to put the residuals on a common scale. These values\n",
    "are sometimes called the \"Pearson residuals\"."
   ]
  },
  {
   "cell_type": "code",
   "execution_count": null,
   "metadata": {},
   "outputs": [],
   "source": [
    "pres = res / np.sqrt(cnt)\n",
    "pres"
   ]
  },
  {
   "cell_type": "markdown",
   "metadata": {},
   "source": [
    "When a Pearson residual is positive, this means that the\n",
    "corresponding cell has a greater count than would be expected if the\n",
    "variables being studied (here age and blood pressure) were\n",
    "independent. When a Pearson residual is negative, the corresponding\n",
    "cell has a smaller count than would be expected under independence.\n",
    "There is no universal standard for judging the magnitudes of Pearson\n",
    "residuals, but values under 1 are negligible and values greater than\n",
    "3 are large."
   ]
  },
  {
   "cell_type": "markdown",
   "metadata": {},
   "source": [
    "## Law of large numbers"
   ]
  },
  {
   "cell_type": "markdown",
   "metadata": {},
   "source": [
    "Now we will use simulation to illustrate the law of large numbers\n",
    "(LLN).  The LLN argues that if we take the sample mean of $n$ iid\n",
    "values, say $\\bar{x}^{(n)} = (x_1 + \\cdots + x_n)/n$, and then let\n",
    "$n$ grow, as if you were obtaining larger and larger data sets, then\n",
    "$\\bar{x}^{(n)}$ will converge to the expected value $E[x]$ of the\n",
    "data that you are sampling."
   ]
  },
  {
   "cell_type": "markdown",
   "metadata": {},
   "source": [
    "To illustrate the LLN we select a more homogeneous group of subjects\n",
    "so that the mean is informative."
   ]
  },
  {
   "cell_type": "code",
   "execution_count": null,
   "metadata": {},
   "outputs": [],
   "source": [
    "v = df.loc[(df[\"RIDAGEYR\"] <= 30) & (df[\"RIAGENDR\"] == 2), \"BPXSY1\"]"
   ]
  },
  {
   "cell_type": "markdown",
   "metadata": {},
   "source": [
    "In this case we will need a numpy array not a Pandas Series, so we\n",
    "do the conversion here:"
   ]
  },
  {
   "cell_type": "code",
   "execution_count": null,
   "metadata": {},
   "outputs": [],
   "source": [
    "v = np.asarray(v.dropna())"
   ]
  },
  {
   "cell_type": "markdown",
   "metadata": {},
   "source": [
    "The following code \"cumulatively averages\" the data.  This is an\n",
    "operation that takes a sequence of numbers x1, x2, ..., and\n",
    "constructs a new sequence by averaging the first value, the first\n",
    "two values, the first three values, and so on.  For example, if our\n",
    "data were [2, 4, 6, 10], then the cumulative averages are [2, 3, 4,\n",
    "5.5] -- each cumulative average is the regular average of an initial\n",
    "sequence of the data values."
   ]
  },
  {
   "cell_type": "markdown",
   "metadata": {},
   "source": [
    "These are the deminators (sample size) for each term in the\n",
    "cumulative average."
   ]
  },
  {
   "cell_type": "code",
   "execution_count": null,
   "metadata": {},
   "outputs": [],
   "source": [
    "n = np.arange(1, len(v)+1)"
   ]
  },
  {
   "cell_type": "markdown",
   "metadata": {},
   "source": [
    "Plotting one cumulative average shows us what we might have obtained\n",
    "had we recalculated the sample mean each time we obtained data for\n",
    "one additional person.  We don't know what the population mean is\n",
    "for these data, but the sample mean is converging to a value of\n",
    "around 111 for the finite set of data that we have.  According to\n",
    "the LLN, if we continued this process with greater values of n, we\n",
    "would converge in the limit to the population mean blood pressure\n",
    "(for the subpopulation of subjects considered here)."
   ]
  },
  {
   "cell_type": "code",
   "execution_count": null,
   "metadata": {},
   "outputs": [],
   "source": [
    "y = np.cumsum(v) / n\n",
    "plt.clf()\n",
    "plt.figure(figsize=(8, 6))\n",
    "plt.grid(True)\n",
    "plt.plot(n, y, '-', color='black')\n",
    "plt.xlabel(\"Sample size\")\n",
    "plt.ylabel(\"Average value\")"
   ]
  },
  {
   "cell_type": "markdown",
   "metadata": {},
   "source": [
    "The order of values in our dataset are arbitrary.  To see what we\n",
    "might have obtained had we sampled the people in our study in a\n",
    "different order, we can repeat this process, randomly permuting the\n",
    "values each time.  Then we plot each of these random sets of\n",
    "cumulative averages.\n",
    "\n",
    "Below may be the first time we have encountered a 'for' loop in this\n",
    "course.  All of the indented code inside the for loop is executed\n",
    "repeatedly, in this case 5 times, and the \"index variable\" j tells\n",
    "us which is the current iteration through the loop.  This is only a\n",
    "brief introduction to the concept of a 'for' loop but is sufficient\n",
    "for this task."
   ]
  },
  {
   "cell_type": "code",
   "execution_count": null,
   "metadata": {
    "lines_to_next_cell": 1
   },
   "outputs": [],
   "source": [
    "plt.clf()\n",
    "plt.figure(figsize=(8, 6))\n",
    "plt.grid(True)\n",
    "for j in range(5):\n",
    "    np.random.shuffle(v)\n",
    "    y = np.cumsum(v) / n\n",
    "    plt.plot(n, y, '-', color='grey', alpha=0.5)\n",
    "plt.xlabel(\"Sample size\")\n",
    "plt.ylabel(\"Average value\")"
   ]
  },
  {
   "cell_type": "markdown",
   "metadata": {},
   "source": [
    "In the above plot, you can see that all of the sequences of\n",
    "cumulative averages seem to be converging to the same limit (we\n",
    "cannot actually see the limit since we are working with finite\n",
    "samples).  Some \"unlucky\" trajectories are quite far off even when\n",
    "the sample size is 100, but even these unlucky trajectories\n",
    "eventually become similar to the others."
   ]
  },
  {
   "cell_type": "markdown",
   "metadata": {},
   "source": [
    "# Blood pressure means within sex by age strata"
   ]
  },
  {
   "cell_type": "markdown",
   "metadata": {},
   "source": [
    "Now we turn to a different topic, which is the standard error of the\n",
    "mean (SEM) and especially its relationship to the sample size and\n",
    "variation of the data.  There is no built-in function for\n",
    "calculating the standard error of the mean (SEM), so we provide that\n",
    "here:"
   ]
  },
  {
   "cell_type": "code",
   "execution_count": null,
   "metadata": {
    "lines_to_next_cell": 1
   },
   "outputs": [],
   "source": [
    "def sem(x):\n",
    "    return x.std() / np.sqrt(len(x))"
   ]
  },
  {
   "cell_type": "markdown",
   "metadata": {},
   "source": [
    "Below we create a table showing the mean, standard error, sample\n",
    "size, and standard error of the mean (SEM) for 10 age x sex strata.\n",
    "In NHANES, females are coded as 2 and males are coded as 1."
   ]
  },
  {
   "cell_type": "code",
   "execution_count": null,
   "metadata": {},
   "outputs": [],
   "source": [
    "r = df.groupby([\"RIAGENDR\", \"Age_strat\"])[\"BPXSY1\"].aggregate([np.mean, np.std, np.size, sem])\n",
    "r"
   ]
  },
  {
   "cell_type": "markdown",
   "metadata": {},
   "source": [
    "The table above shows, as expected, that older people tend to have\n",
    "higher blood pressure than younger people.  Also, except for the\n",
    "oldest age band, males of a given age tend to have higher blood\n",
    "pressure than females of the same age.  In the highest age band, the\n",
    "relationship between sex and blood pressure is reversed.  This could\n",
    "be due to \"survivorship bias\", which is a form of selection bias.\n",
    "Many of the males with very high blood pressure have died by this\n",
    "point, leaving behind only the relatively healthier males."
   ]
  },
  {
   "cell_type": "markdown",
   "metadata": {},
   "source": [
    "The table also reveals substantial heteroscedasticity -- the\n",
    "standard deviations are larger in the strata for older people, which\n",
    "also happen to have greater means.  Thus, these data exhibit a\n",
    "_location/dispersion relationship_.  When the location (mean) is\n",
    "greater, then the dispersion (standard deviation) is also greater.\n",
    "Since the standard error of the mean depends on the standard\n",
    "deviation, the SEM is larger for the strata containing older people.\n",
    "Thus, we are estimating the population mean less precisely in the\n",
    "older age bands."
   ]
  },
  {
   "cell_type": "markdown",
   "metadata": {},
   "source": [
    "# Simulation study for the standard error of the mean"
   ]
  },
  {
   "cell_type": "markdown",
   "metadata": {},
   "source": [
    "Next we will perform a simulation study to illustrate how the\n",
    "standard error of the mean behaves as we vary the sample size, and\n",
    "the level of dispersion in the data.  The simulation study will\n",
    "focus on the strata for the youngest and oldest bands of women in\n",
    "the population.  Below we extract the data for these subjects."
   ]
  },
  {
   "cell_type": "code",
   "execution_count": null,
   "metadata": {},
   "outputs": [],
   "source": [
    "v1 = df.loc[(df[\"RIDAGEYR\"] <=30) & (df[\"RIAGENDR\"] == 2), \"BPXSY1\"]\n",
    "v2 = df.loc[(df[\"RIDAGEYR\"] >= 50) & (df[\"RIAGENDR\"] == 2), \"BPXSY1\"]"
   ]
  },
  {
   "cell_type": "markdown",
   "metadata": {},
   "source": [
    "As above, we will need numpy arrays not Pandas Series."
   ]
  },
  {
   "cell_type": "code",
   "execution_count": null,
   "metadata": {},
   "outputs": [],
   "source": [
    "v1 = np.asarray(v1.dropna())\n",
    "v2 = np.asarray(v2.dropna())"
   ]
  },
  {
   "cell_type": "markdown",
   "metadata": {},
   "source": [
    "Since we are focusing on dispersion here, we will remove the means\n",
    "to make it easier to make comparisons."
   ]
  },
  {
   "cell_type": "code",
   "execution_count": null,
   "metadata": {},
   "outputs": [],
   "source": [
    "v1 = v1 - v1.mean()\n",
    "v2 = v2 - v2.mean()"
   ]
  },
  {
   "cell_type": "markdown",
   "metadata": {},
   "source": [
    "The data from older women (right side below) are more dispersed than\n",
    "the data for younger women (left side below)."
   ]
  },
  {
   "cell_type": "code",
   "execution_count": null,
   "metadata": {},
   "outputs": [],
   "source": [
    "sns.boxplot(data=[v1, v2])"
   ]
  },
  {
   "cell_type": "markdown",
   "metadata": {},
   "source": [
    "The following code generates sample means by randomly drawing\n",
    "subsets from the two NHANES strata selected above.  For each\n",
    "stratum, we sample 100 independent subsets of sizes ranging from 10\n",
    "to 160, then take the sample mean of each subset that we obtain."
   ]
  },
  {
   "cell_type": "code",
   "execution_count": null,
   "metadata": {},
   "outputs": [],
   "source": [
    "ns = [10, 20, 40, 80, 160] # Sample sizes to generate\n",
    "x, nl = [], []\n",
    "for v in v1, v2:\n",
    "    for n in ns:\n",
    "        # Generate 100 datasets by sampling n values from either\n",
    "        # v1 or v2, then take the mean of each sampled dataset.\n",
    "        y = [np.mean(np.random.choice(v, n)) for _ in range(100)]\n",
    "        x.append(y) # sample means\n",
    "        nl.append(n) # sample size"
   ]
  },
  {
   "cell_type": "markdown",
   "metadata": {},
   "source": [
    "The plot below illustrates how the sample means taken from samples\n",
    "of different sizes, and from different populations, differ in terms\n",
    "of their level of dispersion.  There is evidently less dispersion as\n",
    "the sample size grows, reflecting the presence of the factor of\n",
    "$1/\\sqrt{n}$ in the standard error of the mean.  Also, the sample\n",
    "means for the older stratum (right half of the plot), which is a\n",
    "parent population with greater dispersion, are themselves more\n",
    "dispersed.  This reflects that presence of the factor of $\\sigma$ in\n",
    "the standard error of the mean."
   ]
  },
  {
   "cell_type": "code",
   "execution_count": null,
   "metadata": {},
   "outputs": [],
   "source": [
    "plt.clf()\n",
    "plt.boxplot(x)\n",
    "plt.xticks(range(1, 11), nl)\n",
    "plt.xlabel(\"Sample size\")\n",
    "plt.ylabel(\"Sample means\")"
   ]
  },
  {
   "cell_type": "markdown",
   "metadata": {},
   "source": [
    "# Simulation study for the sampling distribution of the mean"
   ]
  },
  {
   "cell_type": "markdown",
   "metadata": {},
   "source": [
    "Next we will perform a simulation study to illustrate the sampling\n",
    "distribution of the mean.  The simulation study will focus on the\n",
    "stratum for the the first row of the table above (the youngest band\n",
    "of men).  First we extract the values from this row into separate\n",
    "variables:"
   ]
  },
  {
   "cell_type": "code",
   "execution_count": null,
   "metadata": {},
   "outputs": [],
   "source": [
    "m, s, n, sem = tuple(r.iloc[0, :])\n",
    "n = int(n)"
   ]
  },
  {
   "cell_type": "markdown",
   "metadata": {},
   "source": [
    "Next we generate 1000 data sets, each with the same mean, standard\n",
    "deviation and sample size as the selected stratum of people from the\n",
    "actual NHANES data.  The data here are simulated using a normal\n",
    "distribution, but below we will consider other distributions."
   ]
  },
  {
   "cell_type": "code",
   "execution_count": null,
   "metadata": {},
   "outputs": [],
   "source": [
    "x = [m + np.random.normal(size=n)*s for _ in range(1000)]"
   ]
  },
  {
   "cell_type": "markdown",
   "metadata": {},
   "source": [
    "Next we calculate the sample mean from each simulated data set:"
   ]
  },
  {
   "cell_type": "code",
   "execution_count": null,
   "metadata": {},
   "outputs": [],
   "source": [
    "y1 = [u.mean() for u in x]"
   ]
  },
  {
   "cell_type": "markdown",
   "metadata": {},
   "source": [
    "The following histogram shows how the simulated sample means are\n",
    "distributed.  The sample mean value that was actually obtained in\n",
    "the NHANES study could be any one value drawn from this\n",
    "distribution."
   ]
  },
  {
   "cell_type": "code",
   "execution_count": null,
   "metadata": {},
   "outputs": [],
   "source": [
    "sns.histplot(y1, kde=True)\n",
    "plt.xlabel(\"Sample mean\")"
   ]
  },
  {
   "cell_type": "markdown",
   "metadata": {},
   "source": [
    "The above plot illustrates the central limit theorem (CLT).  To\n",
    "obtain the plotted data, we calculated sample means of independent\n",
    "and identically distributed (iid) samples of size 571 (since this is\n",
    "the size of the first stratum shown in the table above).  The CLT\n",
    "argues that the distribution of sample means has a distribution that\n",
    "does not depend on the distribution of the individual data values.\n",
    "Moreover, this distribution is approximately normal."
   ]
  },
  {
   "cell_type": "markdown",
   "metadata": {},
   "source": [
    "Recall that a quantile-quantile (QQ) plot aids in determining\n",
    "whether two samples of data follow distributions that are related by\n",
    "a linear transformation.  Thus, we can sample 1000 iid standard\n",
    "normal values, then construct QQ plots comparing these values to\n",
    "each of the three sets of sample means constructed above.  If these\n",
    "plots are approximately linear, this means that the sample means\n",
    "approximately follow normal distributions."
   ]
  },
  {
   "cell_type": "code",
   "execution_count": null,
   "metadata": {},
   "outputs": [],
   "source": [
    "z = np.random.normal(size=1000)"
   ]
  },
  {
   "cell_type": "code",
   "execution_count": null,
   "metadata": {},
   "outputs": [],
   "source": [
    "plt.clf()\n",
    "plt.plot(np.sort(z), np.sort(y1), 'o')\n",
    "plt.grid(True)"
   ]
  },
  {
   "cell_type": "markdown",
   "metadata": {},
   "source": [
    "Although there are some small deviations in the tails, the plot\n",
    "above shows an overwhelmingly linear pattern, supporting the\n",
    "argument that the sample means derived by resampling from the\n",
    "observed are approximately normally distributed."
   ]
  }
 ],
 "metadata": {
  "jupytext": {
   "cell_metadata_filter": "-all",
   "main_language": "python",
   "notebook_metadata_filter": "-all"
  }
 },
 "nbformat": 4,
 "nbformat_minor": 2
}
