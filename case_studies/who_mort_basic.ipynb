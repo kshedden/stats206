{
 "cells": [
  {
   "cell_type": "markdown",
   "metadata": {},
   "source": [
    "# World Health Organization mortality data"
   ]
  },
  {
   "cell_type": "markdown",
   "metadata": {},
   "source": [
    "The World Health Organization (WHO) assimilates and harmonizes\n",
    "mortality data for most countries in the world.  These data include\n",
    "\"all cause\" (total) mortality, as well as cause-specific mortality\n",
    "(e.g. mortality due to cancer).  Here we will focus on the all-cause\n",
    "mortality data, for a subset of countries with data that are mostly\n",
    "complete."
   ]
  },
  {
   "cell_type": "markdown",
   "metadata": {},
   "source": [
    "The data considered were obtained from the site below, which also\n",
    "provides documentation about the data.\n",
    "\n",
    "https://www.who.int/data/data-collection-tools/who-mortality-database"
   ]
  },
  {
   "cell_type": "markdown",
   "metadata": {},
   "source": [
    "Many important research efforts involve analysis of this type of\n",
    "data.  In general, mortality has declined over the past 100 years,\n",
    "but it has declined much faster in some regions and within some\n",
    "demographic subgroups than in others.  Also, mortality due to some\n",
    "causes has declined much faster than others."
   ]
  },
  {
   "cell_type": "markdown",
   "metadata": {},
   "source": [
    "It usually makes sense to compare death rates (mortality relative to\n",
    "population), which is a proportion, rather than the absolute number\n",
    "of deaths, since the number of deaths is strongly related to the\n",
    "underlying population size.  The WHO reports both the number of\n",
    "people who die within each demographic group per country/year, and\n",
    "the population sizes of these groups.  We can form a proportion from\n",
    "these two numbers.  Here, a demographic group is defined by an age\n",
    "band (e.g. 70-75 years) and sex (female or male)."
   ]
  },
  {
   "cell_type": "markdown",
   "metadata": {},
   "source": [
    "We will focus here on the use of Z-scores for comparing proportions.\n",
    "Suppose we have two proportions derived from data, $\\hat{p}$ and\n",
    "$\\hat{q}$, representing the proportions of women and men between 70\n",
    "and 75 who die each year.  These proportions have population\n",
    "analogues $p$ and $q$ that we do not know.  The best possible\n",
    "measure of the difference in sex-specific death rates is $p-q$, and\n",
    "the \"plug-in\" estimate of this quantity is $\\hat{p} - \\hat{q}$."
   ]
  },
  {
   "cell_type": "markdown",
   "metadata": {},
   "source": [
    "Since $\\hat{p} - \\hat{q}$ is an estimate, it has an error associated\n",
    "with it, whose typical size is quantified by the standard error.\n",
    "The standard error here is $\\sqrt{p(1-p)/m + q(1-q)/n}$, where $m$\n",
    "and $n$ are the sample sizes for women and men, respectively.  Again\n",
    "we \"plug-in\" the estimates of $p$ and $q$ and obtain an estimated\n",
    "standard error $\\sqrt{\\hat{p}(1-\\hat{p})/m + \\hat{q}(1-\\hat{q})/n}$."
   ]
  },
  {
   "cell_type": "markdown",
   "metadata": {},
   "source": [
    "Finally, we can obtain the Z-score, which as always is an estimate\n",
    "divided by its (estimated) standard error.\n",
    "\n",
    "$(\\hat{p}-\\hat{q}) / \\sqrt{\\hat{p}(1-\\hat{p})/m +\n",
    "\\hat{q}(1-\\hat{q})/n}$."
   ]
  },
  {
   "cell_type": "markdown",
   "metadata": {},
   "source": [
    "A Z-score is a measure of evidence that $p$ and $q$ are different.\n",
    "Observing a value of Z close to zero indicates no evidence for a\n",
    "difference.  Specifically, if Z is smaller than 2 in absolute value,\n",
    "there is no meaningful evidence for a difference, under the standard\n",
    "conventions for gauging evidence."
   ]
  },
  {
   "cell_type": "markdown",
   "metadata": {},
   "source": [
    "Here we will study Z-scores for several types of mortality rate\n",
    "comparisons, including comparisons between the sexes, and\n",
    "comparisons over time within sexes."
   ]
  },
  {
   "cell_type": "markdown",
   "metadata": {},
   "source": [
    "First, we import the libraries that we will need."
   ]
  },
  {
   "cell_type": "code",
   "execution_count": 1,
   "metadata": {},
   "outputs": [],
   "source": [
    "import pandas as pd\n",
    "import numpy as np\n",
    "import os\n",
    "import matplotlib.pyplot as plt\n",
    "import seaborn as sns\n",
    "import scipy"
   ]
  },
  {
   "cell_type": "markdown",
   "metadata": {},
   "source": [
    "Modify this string according to your section number (001 or 002):"
   ]
  },
  {
   "cell_type": "code",
   "execution_count": 2,
   "metadata": {},
   "outputs": [],
   "source": [
    "f = \"stats206s002f21\""
   ]
  },
  {
   "cell_type": "markdown",
   "metadata": {},
   "source": [
    "Next we read the dataset into a dataframe."
   ]
  },
  {
   "cell_type": "code",
   "execution_count": 3,
   "metadata": {},
   "outputs": [
    {
     "data": {
      "text/html": [
       "<div>\n",
       "<style scoped>\n",
       "    .dataframe tbody tr th:only-of-type {\n",
       "        vertical-align: middle;\n",
       "    }\n",
       "\n",
       "    .dataframe tbody tr th {\n",
       "        vertical-align: top;\n",
       "    }\n",
       "\n",
       "    .dataframe thead th {\n",
       "        text-align: right;\n",
       "    }\n",
       "</style>\n",
       "<table border=\"1\" class=\"dataframe\">\n",
       "  <thead>\n",
       "    <tr style=\"text-align: right;\">\n",
       "      <th></th>\n",
       "      <th>Country</th>\n",
       "      <th>Year</th>\n",
       "      <th>Sex</th>\n",
       "      <th>Age</th>\n",
       "      <th>Deaths</th>\n",
       "      <th>Pop</th>\n",
       "    </tr>\n",
       "  </thead>\n",
       "  <tbody>\n",
       "    <tr>\n",
       "      <th>0</th>\n",
       "      <td>2090</td>\n",
       "      <td>2000</td>\n",
       "      <td>1.0</td>\n",
       "      <td>1</td>\n",
       "      <td>111741.0</td>\n",
       "      <td>15246964.0</td>\n",
       "    </tr>\n",
       "    <tr>\n",
       "      <th>1</th>\n",
       "      <td>2090</td>\n",
       "      <td>2000</td>\n",
       "      <td>2.0</td>\n",
       "      <td>1</td>\n",
       "      <td>106320.0</td>\n",
       "      <td>15543870.0</td>\n",
       "    </tr>\n",
       "    <tr>\n",
       "      <th>2</th>\n",
       "      <td>2090</td>\n",
       "      <td>2001</td>\n",
       "      <td>1.0</td>\n",
       "      <td>1</td>\n",
       "      <td>112000.0</td>\n",
       "      <td>15364404.0</td>\n",
       "    </tr>\n",
       "    <tr>\n",
       "      <th>3</th>\n",
       "      <td>2090</td>\n",
       "      <td>2001</td>\n",
       "      <td>2.0</td>\n",
       "      <td>1</td>\n",
       "      <td>107537.0</td>\n",
       "      <td>15656847.0</td>\n",
       "    </tr>\n",
       "    <tr>\n",
       "      <th>4</th>\n",
       "      <td>2090</td>\n",
       "      <td>2002</td>\n",
       "      <td>1.0</td>\n",
       "      <td>1</td>\n",
       "      <td>113266.0</td>\n",
       "      <td>15538572.0</td>\n",
       "    </tr>\n",
       "  </tbody>\n",
       "</table>\n",
       "</div>"
      ],
      "text/plain": [
       "   Country  Year  Sex  Age    Deaths         Pop\n",
       "0     2090  2000  1.0    1  111741.0  15246964.0\n",
       "1     2090  2000  2.0    1  106320.0  15543870.0\n",
       "2     2090  2001  1.0    1  112000.0  15364404.0\n",
       "3     2090  2001  2.0    1  107537.0  15656847.0\n",
       "4     2090  2002  1.0    1  113266.0  15538572.0"
      ]
     },
     "execution_count": 3,
     "metadata": {},
     "output_type": "execute_result"
    }
   ],
   "source": [
    "base = \"/scratch/%s_class_root/%s_class/shared_data/datasets\" % (f, f)\n",
    "df = pd.read_csv(os.path.join(base, \"who_allcause.csv.gz\"))\n",
    "df.head()"
   ]
  },
  {
   "cell_type": "markdown",
   "metadata": {},
   "source": [
    "In a few instances, there must be a problem with the data since the\n",
    "number of reported deaths is greater than the reported population.\n",
    "This is very rare so we drop these few rows of data."
   ]
  },
  {
   "cell_type": "code",
   "execution_count": 4,
   "metadata": {},
   "outputs": [],
   "source": [
    "df = df.loc[df[\"Deaths\"] <= df[\"Pop\"], :]"
   ]
  },
  {
   "cell_type": "markdown",
   "metadata": {},
   "source": [
    "# Comparing death rates by sex"
   ]
  },
  {
   "cell_type": "markdown",
   "metadata": {},
   "source": [
    "In almost all settings, death rates for males are greater than death\n",
    "rates for females.  Here we will study the relationship between the\n",
    "female and male death rates."
   ]
  },
  {
   "cell_type": "markdown",
   "metadata": {},
   "source": [
    "The original data are in long form (one row per demographic cell /\n",
    "country / year).  We need to \"pivot\" on sex, so that the mortality\n",
    "counts and population sizes for women and men are in the same row,\n",
    "for a given age band, country, and year.  We do that by splitting\n",
    "the data by sex, then merging the files for women and for men."
   ]
  },
  {
   "cell_type": "markdown",
   "metadata": {},
   "source": [
    "First, select only the women.  We also rename some of the columns to\n",
    "make the column names unique."
   ]
  },
  {
   "cell_type": "code",
   "execution_count": 5,
   "metadata": {},
   "outputs": [
    {
     "data": {
      "text/html": [
       "<div>\n",
       "<style scoped>\n",
       "    .dataframe tbody tr th:only-of-type {\n",
       "        vertical-align: middle;\n",
       "    }\n",
       "\n",
       "    .dataframe tbody tr th {\n",
       "        vertical-align: top;\n",
       "    }\n",
       "\n",
       "    .dataframe thead th {\n",
       "        text-align: right;\n",
       "    }\n",
       "</style>\n",
       "<table border=\"1\" class=\"dataframe\">\n",
       "  <thead>\n",
       "    <tr style=\"text-align: right;\">\n",
       "      <th></th>\n",
       "      <th>Country</th>\n",
       "      <th>Year</th>\n",
       "      <th>Age</th>\n",
       "      <th>Deaths_f</th>\n",
       "      <th>Pop_f</th>\n",
       "    </tr>\n",
       "  </thead>\n",
       "  <tbody>\n",
       "    <tr>\n",
       "      <th>1</th>\n",
       "      <td>2090</td>\n",
       "      <td>2000</td>\n",
       "      <td>1</td>\n",
       "      <td>106320.0</td>\n",
       "      <td>15543870.0</td>\n",
       "    </tr>\n",
       "    <tr>\n",
       "      <th>3</th>\n",
       "      <td>2090</td>\n",
       "      <td>2001</td>\n",
       "      <td>1</td>\n",
       "      <td>107537.0</td>\n",
       "      <td>15656847.0</td>\n",
       "    </tr>\n",
       "    <tr>\n",
       "      <th>5</th>\n",
       "      <td>2090</td>\n",
       "      <td>2002</td>\n",
       "      <td>1</td>\n",
       "      <td>110337.0</td>\n",
       "      <td>15834015.0</td>\n",
       "    </tr>\n",
       "    <tr>\n",
       "      <th>7</th>\n",
       "      <td>2450</td>\n",
       "      <td>1999</td>\n",
       "      <td>1</td>\n",
       "      <td>1215939.0</td>\n",
       "      <td>139414254.0</td>\n",
       "    </tr>\n",
       "    <tr>\n",
       "      <th>9</th>\n",
       "      <td>2450</td>\n",
       "      <td>2000</td>\n",
       "      <td>1</td>\n",
       "      <td>1225773.0</td>\n",
       "      <td>143368343.0</td>\n",
       "    </tr>\n",
       "  </tbody>\n",
       "</table>\n",
       "</div>"
      ],
      "text/plain": [
       "   Country  Year  Age   Deaths_f        Pop_f\n",
       "1     2090  2000    1   106320.0   15543870.0\n",
       "3     2090  2001    1   107537.0   15656847.0\n",
       "5     2090  2002    1   110337.0   15834015.0\n",
       "7     2450  1999    1  1215939.0  139414254.0\n",
       "9     2450  2000    1  1225773.0  143368343.0"
      ]
     },
     "execution_count": 5,
     "metadata": {},
     "output_type": "execute_result"
    }
   ],
   "source": [
    "da_f = df.loc[df.Sex == 2, :]\n",
    "da_f = da_f.rename(columns={\"Pop\": \"Pop_f\", \"Deaths\": \"Deaths_f\"})\n",
    "da_f = da_f.drop([\"Sex\"], axis=1)\n",
    "da_f.head()"
   ]
  },
  {
   "cell_type": "markdown",
   "metadata": {},
   "source": [
    "Now, select only the men and perform the same renaming as above."
   ]
  },
  {
   "cell_type": "code",
   "execution_count": 6,
   "metadata": {},
   "outputs": [
    {
     "data": {
      "text/html": [
       "<div>\n",
       "<style scoped>\n",
       "    .dataframe tbody tr th:only-of-type {\n",
       "        vertical-align: middle;\n",
       "    }\n",
       "\n",
       "    .dataframe tbody tr th {\n",
       "        vertical-align: top;\n",
       "    }\n",
       "\n",
       "    .dataframe thead th {\n",
       "        text-align: right;\n",
       "    }\n",
       "</style>\n",
       "<table border=\"1\" class=\"dataframe\">\n",
       "  <thead>\n",
       "    <tr style=\"text-align: right;\">\n",
       "      <th></th>\n",
       "      <th>Country</th>\n",
       "      <th>Year</th>\n",
       "      <th>Age</th>\n",
       "      <th>Deaths_m</th>\n",
       "      <th>Pop_m</th>\n",
       "    </tr>\n",
       "  </thead>\n",
       "  <tbody>\n",
       "    <tr>\n",
       "      <th>0</th>\n",
       "      <td>2090</td>\n",
       "      <td>2000</td>\n",
       "      <td>1</td>\n",
       "      <td>111741.0</td>\n",
       "      <td>15246964.0</td>\n",
       "    </tr>\n",
       "    <tr>\n",
       "      <th>2</th>\n",
       "      <td>2090</td>\n",
       "      <td>2001</td>\n",
       "      <td>1</td>\n",
       "      <td>112000.0</td>\n",
       "      <td>15364404.0</td>\n",
       "    </tr>\n",
       "    <tr>\n",
       "      <th>4</th>\n",
       "      <td>2090</td>\n",
       "      <td>2002</td>\n",
       "      <td>1</td>\n",
       "      <td>113266.0</td>\n",
       "      <td>15538572.0</td>\n",
       "    </tr>\n",
       "    <tr>\n",
       "      <th>6</th>\n",
       "      <td>2450</td>\n",
       "      <td>1999</td>\n",
       "      <td>1</td>\n",
       "      <td>1175460.0</td>\n",
       "      <td>133276559.0</td>\n",
       "    </tr>\n",
       "    <tr>\n",
       "      <th>8</th>\n",
       "      <td>2450</td>\n",
       "      <td>2000</td>\n",
       "      <td>1</td>\n",
       "      <td>1177578.0</td>\n",
       "      <td>138053563.0</td>\n",
       "    </tr>\n",
       "  </tbody>\n",
       "</table>\n",
       "</div>"
      ],
      "text/plain": [
       "   Country  Year  Age   Deaths_m        Pop_m\n",
       "0     2090  2000    1   111741.0   15246964.0\n",
       "2     2090  2001    1   112000.0   15364404.0\n",
       "4     2090  2002    1   113266.0   15538572.0\n",
       "6     2450  1999    1  1175460.0  133276559.0\n",
       "8     2450  2000    1  1177578.0  138053563.0"
      ]
     },
     "execution_count": 6,
     "metadata": {},
     "output_type": "execute_result"
    }
   ],
   "source": [
    "da_m = df.loc[df.Sex == 1, :]\n",
    "da_m = da_m.rename(columns={\"Pop\": \"Pop_m\", \"Deaths\": \"Deaths_m\"})\n",
    "da_m = da_m.drop([\"Sex\"], axis=1)\n",
    "da_m.head()"
   ]
  },
  {
   "cell_type": "markdown",
   "metadata": {},
   "source": [
    "Now we can do the merge, aligning by country, year, and age."
   ]
  },
  {
   "cell_type": "code",
   "execution_count": 7,
   "metadata": {},
   "outputs": [
    {
     "data": {
      "text/html": [
       "<div>\n",
       "<style scoped>\n",
       "    .dataframe tbody tr th:only-of-type {\n",
       "        vertical-align: middle;\n",
       "    }\n",
       "\n",
       "    .dataframe tbody tr th {\n",
       "        vertical-align: top;\n",
       "    }\n",
       "\n",
       "    .dataframe thead th {\n",
       "        text-align: right;\n",
       "    }\n",
       "</style>\n",
       "<table border=\"1\" class=\"dataframe\">\n",
       "  <thead>\n",
       "    <tr style=\"text-align: right;\">\n",
       "      <th></th>\n",
       "      <th>Country</th>\n",
       "      <th>Year</th>\n",
       "      <th>Age</th>\n",
       "      <th>Deaths_m</th>\n",
       "      <th>Pop_m</th>\n",
       "      <th>Deaths_f</th>\n",
       "      <th>Pop_f</th>\n",
       "    </tr>\n",
       "  </thead>\n",
       "  <tbody>\n",
       "    <tr>\n",
       "      <th>0</th>\n",
       "      <td>2090</td>\n",
       "      <td>2000</td>\n",
       "      <td>1</td>\n",
       "      <td>111741.0</td>\n",
       "      <td>15246964.0</td>\n",
       "      <td>106320.0</td>\n",
       "      <td>15543870.0</td>\n",
       "    </tr>\n",
       "    <tr>\n",
       "      <th>1</th>\n",
       "      <td>2090</td>\n",
       "      <td>2001</td>\n",
       "      <td>1</td>\n",
       "      <td>112000.0</td>\n",
       "      <td>15364404.0</td>\n",
       "      <td>107537.0</td>\n",
       "      <td>15656847.0</td>\n",
       "    </tr>\n",
       "    <tr>\n",
       "      <th>2</th>\n",
       "      <td>2090</td>\n",
       "      <td>2002</td>\n",
       "      <td>1</td>\n",
       "      <td>113266.0</td>\n",
       "      <td>15538572.0</td>\n",
       "      <td>110337.0</td>\n",
       "      <td>15834015.0</td>\n",
       "    </tr>\n",
       "    <tr>\n",
       "      <th>3</th>\n",
       "      <td>2450</td>\n",
       "      <td>1999</td>\n",
       "      <td>1</td>\n",
       "      <td>1175460.0</td>\n",
       "      <td>133276559.0</td>\n",
       "      <td>1215939.0</td>\n",
       "      <td>139414254.0</td>\n",
       "    </tr>\n",
       "    <tr>\n",
       "      <th>4</th>\n",
       "      <td>2450</td>\n",
       "      <td>2000</td>\n",
       "      <td>1</td>\n",
       "      <td>1177578.0</td>\n",
       "      <td>138053563.0</td>\n",
       "      <td>1225773.0</td>\n",
       "      <td>143368343.0</td>\n",
       "    </tr>\n",
       "  </tbody>\n",
       "</table>\n",
       "</div>"
      ],
      "text/plain": [
       "   Country  Year  Age   Deaths_m        Pop_m   Deaths_f        Pop_f\n",
       "0     2090  2000    1   111741.0   15246964.0   106320.0   15543870.0\n",
       "1     2090  2001    1   112000.0   15364404.0   107537.0   15656847.0\n",
       "2     2090  2002    1   113266.0   15538572.0   110337.0   15834015.0\n",
       "3     2450  1999    1  1175460.0  133276559.0  1215939.0  139414254.0\n",
       "4     2450  2000    1  1177578.0  138053563.0  1225773.0  143368343.0"
      ]
     },
     "execution_count": 7,
     "metadata": {},
     "output_type": "execute_result"
    }
   ],
   "source": [
    "v = [\"Country\", \"Year\", \"Age\"]\n",
    "dx = pd.merge(da_m, da_f, left_on=v, right_on=v)\n",
    "dx.head()"
   ]
  },
  {
   "cell_type": "markdown",
   "metadata": {},
   "source": [
    "Next we calculate the death rates (note that these are proportions):"
   ]
  },
  {
   "cell_type": "code",
   "execution_count": 8,
   "metadata": {},
   "outputs": [
    {
     "data": {
      "text/html": [
       "<div>\n",
       "<style scoped>\n",
       "    .dataframe tbody tr th:only-of-type {\n",
       "        vertical-align: middle;\n",
       "    }\n",
       "\n",
       "    .dataframe tbody tr th {\n",
       "        vertical-align: top;\n",
       "    }\n",
       "\n",
       "    .dataframe thead th {\n",
       "        text-align: right;\n",
       "    }\n",
       "</style>\n",
       "<table border=\"1\" class=\"dataframe\">\n",
       "  <thead>\n",
       "    <tr style=\"text-align: right;\">\n",
       "      <th></th>\n",
       "      <th>Country</th>\n",
       "      <th>Year</th>\n",
       "      <th>Age</th>\n",
       "      <th>Deaths_m</th>\n",
       "      <th>Pop_m</th>\n",
       "      <th>Deaths_f</th>\n",
       "      <th>Pop_f</th>\n",
       "      <th>drate_f</th>\n",
       "      <th>drate_m</th>\n",
       "    </tr>\n",
       "  </thead>\n",
       "  <tbody>\n",
       "    <tr>\n",
       "      <th>0</th>\n",
       "      <td>2090</td>\n",
       "      <td>2000</td>\n",
       "      <td>1</td>\n",
       "      <td>111741.0</td>\n",
       "      <td>15246964.0</td>\n",
       "      <td>106320.0</td>\n",
       "      <td>15543870.0</td>\n",
       "      <td>0.006840</td>\n",
       "      <td>0.007329</td>\n",
       "    </tr>\n",
       "    <tr>\n",
       "      <th>1</th>\n",
       "      <td>2090</td>\n",
       "      <td>2001</td>\n",
       "      <td>1</td>\n",
       "      <td>112000.0</td>\n",
       "      <td>15364404.0</td>\n",
       "      <td>107537.0</td>\n",
       "      <td>15656847.0</td>\n",
       "      <td>0.006868</td>\n",
       "      <td>0.007290</td>\n",
       "    </tr>\n",
       "    <tr>\n",
       "      <th>2</th>\n",
       "      <td>2090</td>\n",
       "      <td>2002</td>\n",
       "      <td>1</td>\n",
       "      <td>113266.0</td>\n",
       "      <td>15538572.0</td>\n",
       "      <td>110337.0</td>\n",
       "      <td>15834015.0</td>\n",
       "      <td>0.006968</td>\n",
       "      <td>0.007289</td>\n",
       "    </tr>\n",
       "    <tr>\n",
       "      <th>3</th>\n",
       "      <td>2450</td>\n",
       "      <td>1999</td>\n",
       "      <td>1</td>\n",
       "      <td>1175460.0</td>\n",
       "      <td>133276559.0</td>\n",
       "      <td>1215939.0</td>\n",
       "      <td>139414254.0</td>\n",
       "      <td>0.008722</td>\n",
       "      <td>0.008820</td>\n",
       "    </tr>\n",
       "    <tr>\n",
       "      <th>4</th>\n",
       "      <td>2450</td>\n",
       "      <td>2000</td>\n",
       "      <td>1</td>\n",
       "      <td>1177578.0</td>\n",
       "      <td>138053563.0</td>\n",
       "      <td>1225773.0</td>\n",
       "      <td>143368343.0</td>\n",
       "      <td>0.008550</td>\n",
       "      <td>0.008530</td>\n",
       "    </tr>\n",
       "  </tbody>\n",
       "</table>\n",
       "</div>"
      ],
      "text/plain": [
       "   Country  Year  Age   Deaths_m        Pop_m   Deaths_f        Pop_f  \\\n",
       "0     2090  2000    1   111741.0   15246964.0   106320.0   15543870.0   \n",
       "1     2090  2001    1   112000.0   15364404.0   107537.0   15656847.0   \n",
       "2     2090  2002    1   113266.0   15538572.0   110337.0   15834015.0   \n",
       "3     2450  1999    1  1175460.0  133276559.0  1215939.0  139414254.0   \n",
       "4     2450  2000    1  1177578.0  138053563.0  1225773.0  143368343.0   \n",
       "\n",
       "    drate_f   drate_m  \n",
       "0  0.006840  0.007329  \n",
       "1  0.006868  0.007290  \n",
       "2  0.006968  0.007289  \n",
       "3  0.008722  0.008820  \n",
       "4  0.008550  0.008530  "
      ]
     },
     "execution_count": 8,
     "metadata": {},
     "output_type": "execute_result"
    }
   ],
   "source": [
    "dx[\"drate_f\"] = dx[\"Deaths_f\"] / dx[\"Pop_f\"]\n",
    "dx[\"drate_m\"] = dx[\"Deaths_m\"] / dx[\"Pop_m\"]\n",
    "dx.head()"
   ]
  },
  {
   "cell_type": "markdown",
   "metadata": {},
   "source": [
    "Before proceeding, let's see what we can learn by exploring the\n",
    "death rates.  First we make a boxplot showing how the female death\n",
    "rates vary by age.  Recall that the numerical age values represent\n",
    "age bands, see the documentation for the exact age ranges.  The main\n",
    "insight here is that the death rate is higher for older people."
   ]
  },
  {
   "cell_type": "code",
   "execution_count": 9,
   "metadata": {},
   "outputs": [
    {
     "data": {
      "text/plain": [
       "<AxesSubplot:xlabel='Age', ylabel='drate_f'>"
      ]
     },
     "execution_count": 9,
     "metadata": {},
     "output_type": "execute_result"
    },
    {
     "data": {
      "image/png": "[encoded data removed]",
      "text/plain": [
       "<Figure size 432x288 with 1 Axes>"
      ]
     },
     "metadata": {
      "needs_background": "light"
     },
     "output_type": "display_data"
    }
   ],
   "source": [
    "sns.boxplot(x=\"Age\", y=\"drate_f\", data=dx)"
   ]
  },
  {
   "cell_type": "markdown",
   "metadata": {},
   "source": [
    "Sometimes a transformation reveals something that is otherwise\n",
    "hidden.  Below we make a boxplot of the square-root transformed\n",
    "proportions, and see that mortality is somewhat greater for very\n",
    "young children, compared to older children and young adults."
   ]
  },
  {
   "cell_type": "code",
   "execution_count": 10,
   "metadata": {},
   "outputs": [
    {
     "data": {
      "text/plain": [
       "<AxesSubplot:xlabel='Age', ylabel='drate_f_sqrt'>"
      ]
     },
     "execution_count": 10,
     "metadata": {},
     "output_type": "execute_result"
    },
    {
     "data": {
      "image/png": "[encoded data removed]",
      "text/plain": [
       "<Figure size 432x288 with 1 Axes>"
      ]
     },
     "metadata": {
      "needs_background": "light"
     },
     "output_type": "display_data"
    }
   ],
   "source": [
    "dx[\"drate_f_sqrt\"] = np.sqrt(dx[\"drate_f\"])\n",
    "sns.boxplot(x=\"Age\", y=\"drate_f_sqrt\", data=dx)"
   ]
  },
  {
   "cell_type": "markdown",
   "metadata": {},
   "source": [
    "Next we make a scatterplot of the male death rates (vertical axis)\n",
    "against the female death rates (horizontal axis).  The trend\n",
    "(correlation) between female and male death rates reflects the fact\n",
    "that the countries and years with higher death rate tend to have\n",
    "higher death rates for both sexes.  Nevertheless, there are some\n",
    "instances where the female and male death rates diverge.  We will\n",
    "return to this further below."
   ]
  },
  {
   "cell_type": "code",
   "execution_count": 11,
   "metadata": {},
   "outputs": [
    {
     "data": {
      "text/plain": [
       "[<matplotlib.lines.Line2D at 0x2b07b7efb0a0>]"
      ]
     },
     "execution_count": 11,
     "metadata": {},
     "output_type": "execute_result"
    },
    {
     "data": {
      "image/png": "[encoded data removed]",
      "text/plain": [
       "<Figure size 432x288 with 1 Axes>"
      ]
     },
     "metadata": {
      "needs_background": "light"
     },
     "output_type": "display_data"
    }
   ],
   "source": [
    "plt.grid(True)\n",
    "sns.scatterplot(x=\"drate_f\", y=\"drate_m\", data=dx)\n",
    "plt.plot([0, 1], [0, 1], '-')"
   ]
  },
  {
   "cell_type": "markdown",
   "metadata": {},
   "source": [
    "A useful plot in this setting is a \"mean/difference plot\", sometimes\n",
    "called a \"volcano plot\".  This is a plot of the average of two\n",
    "quantities against their difference.  One observation we make here\n",
    "is that the instances where the female and male death rates are very\n",
    "different are all instances where the mean death rate is quite\n",
    "large.  This plot also makes it easy to see that it is more common\n",
    "that the male death rate exceeds the female death rate."
   ]
  },
  {
   "cell_type": "code",
   "execution_count": 12,
   "metadata": {},
   "outputs": [
    {
     "data": {
      "text/plain": [
       "<AxesSubplot:xlabel='drate_diff', ylabel='drate_mean'>"
      ]
     },
     "execution_count": 12,
     "metadata": {},
     "output_type": "execute_result"
    },
    {
     "data": {
      "image/png": "[encoded data removed]",
      "text/plain": [
       "<Figure size 432x288 with 1 Axes>"
      ]
     },
     "metadata": {
      "needs_background": "light"
     },
     "output_type": "display_data"
    }
   ],
   "source": [
    "dx[\"drate_diff\"] = dx[\"drate_f\"] - dx[\"drate_m\"]\n",
    "dx[\"drate_mean\"] = (dx[\"drate_f\"] + dx[\"drate_m\"]) / 2\n",
    "plt.grid(True)\n",
    "sns.scatterplot(x=\"drate_diff\", y=\"drate_mean\", data=dx)"
   ]
  },
  {
   "cell_type": "markdown",
   "metadata": {},
   "source": [
    "## Analyses considering statistical evidence and uncertainty"
   ]
  },
  {
   "cell_type": "markdown",
   "metadata": {},
   "source": [
    "Now we turn to an analysis that more completely considers the\n",
    "uncertainty in the data.  The key for understanding uncertainty is\n",
    "almost always the standard error.  To make it easier to calculate\n",
    "the standard error, we define variables containing the key terms in\n",
    "the standard error: p is the estimated death rate for females, q is\n",
    "the estimated death rate for males, m is the sample size for\n",
    "females, and n is the sample size for males.  Note that all four of\n",
    "these quantities are vectors containing results for various\n",
    "countries and years.  The data are aligned so that for an index i,\n",
    "p[i], q[i], m[i], and n[i] all correspond to the same country and\n",
    "year."
   ]
  },
  {
   "cell_type": "code",
   "execution_count": 13,
   "metadata": {},
   "outputs": [],
   "source": [
    "p = dx[\"drate_f\"]\n",
    "q = dx[\"drate_m\"]\n",
    "m = dx[\"Pop_f\"]\n",
    "n = dx[\"Pop_m\"]"
   ]
  },
  {
   "cell_type": "markdown",
   "metadata": {},
   "source": [
    "Below we calculate the Z-score for the difference in death rates\n",
    "between women and men."
   ]
  },
  {
   "cell_type": "code",
   "execution_count": 14,
   "metadata": {},
   "outputs": [
    {
     "data": {
      "text/html": [
       "<div>\n",
       "<style scoped>\n",
       "    .dataframe tbody tr th:only-of-type {\n",
       "        vertical-align: middle;\n",
       "    }\n",
       "\n",
       "    .dataframe tbody tr th {\n",
       "        vertical-align: top;\n",
       "    }\n",
       "\n",
       "    .dataframe thead th {\n",
       "        text-align: right;\n",
       "    }\n",
       "</style>\n",
       "<table border=\"1\" class=\"dataframe\">\n",
       "  <thead>\n",
       "    <tr style=\"text-align: right;\">\n",
       "      <th></th>\n",
       "      <th>Country</th>\n",
       "      <th>Year</th>\n",
       "      <th>Age</th>\n",
       "      <th>Deaths_m</th>\n",
       "      <th>Pop_m</th>\n",
       "      <th>Deaths_f</th>\n",
       "      <th>Pop_f</th>\n",
       "      <th>drate_f</th>\n",
       "      <th>drate_m</th>\n",
       "      <th>drate_f_sqrt</th>\n",
       "      <th>drate_diff</th>\n",
       "      <th>drate_mean</th>\n",
       "      <th>zdiff</th>\n",
       "    </tr>\n",
       "  </thead>\n",
       "  <tbody>\n",
       "    <tr>\n",
       "      <th>0</th>\n",
       "      <td>2090</td>\n",
       "      <td>2000</td>\n",
       "      <td>1</td>\n",
       "      <td>111741.0</td>\n",
       "      <td>15246964.0</td>\n",
       "      <td>106320.0</td>\n",
       "      <td>15543870.0</td>\n",
       "      <td>0.006840</td>\n",
       "      <td>0.007329</td>\n",
       "      <td>0.082704</td>\n",
       "      <td>-0.000489</td>\n",
       "      <td>0.007084</td>\n",
       "      <td>-16.164560</td>\n",
       "    </tr>\n",
       "    <tr>\n",
       "      <th>1</th>\n",
       "      <td>2090</td>\n",
       "      <td>2001</td>\n",
       "      <td>1</td>\n",
       "      <td>112000.0</td>\n",
       "      <td>15364404.0</td>\n",
       "      <td>107537.0</td>\n",
       "      <td>15656847.0</td>\n",
       "      <td>0.006868</td>\n",
       "      <td>0.007290</td>\n",
       "      <td>0.082876</td>\n",
       "      <td>-0.000421</td>\n",
       "      <td>0.007079</td>\n",
       "      <td>-13.988630</td>\n",
       "    </tr>\n",
       "    <tr>\n",
       "      <th>2</th>\n",
       "      <td>2090</td>\n",
       "      <td>2002</td>\n",
       "      <td>1</td>\n",
       "      <td>113266.0</td>\n",
       "      <td>15538572.0</td>\n",
       "      <td>110337.0</td>\n",
       "      <td>15834015.0</td>\n",
       "      <td>0.006968</td>\n",
       "      <td>0.007289</td>\n",
       "      <td>0.083477</td>\n",
       "      <td>-0.000321</td>\n",
       "      <td>0.007129</td>\n",
       "      <td>-10.683622</td>\n",
       "    </tr>\n",
       "    <tr>\n",
       "      <th>3</th>\n",
       "      <td>2450</td>\n",
       "      <td>1999</td>\n",
       "      <td>1</td>\n",
       "      <td>1175460.0</td>\n",
       "      <td>133276559.0</td>\n",
       "      <td>1215939.0</td>\n",
       "      <td>139414254.0</td>\n",
       "      <td>0.008722</td>\n",
       "      <td>0.008820</td>\n",
       "      <td>0.093390</td>\n",
       "      <td>-0.000098</td>\n",
       "      <td>0.008771</td>\n",
       "      <td>-8.669721</td>\n",
       "    </tr>\n",
       "    <tr>\n",
       "      <th>4</th>\n",
       "      <td>2450</td>\n",
       "      <td>2000</td>\n",
       "      <td>1</td>\n",
       "      <td>1177578.0</td>\n",
       "      <td>138053563.0</td>\n",
       "      <td>1225773.0</td>\n",
       "      <td>143368343.0</td>\n",
       "      <td>0.008550</td>\n",
       "      <td>0.008530</td>\n",
       "      <td>0.092465</td>\n",
       "      <td>0.000020</td>\n",
       "      <td>0.008540</td>\n",
       "      <td>1.818552</td>\n",
       "    </tr>\n",
       "  </tbody>\n",
       "</table>\n",
       "</div>"
      ],
      "text/plain": [
       "   Country  Year  Age   Deaths_m        Pop_m   Deaths_f        Pop_f  \\\n",
       "0     2090  2000    1   111741.0   15246964.0   106320.0   15543870.0   \n",
       "1     2090  2001    1   112000.0   15364404.0   107537.0   15656847.0   \n",
       "2     2090  2002    1   113266.0   15538572.0   110337.0   15834015.0   \n",
       "3     2450  1999    1  1175460.0  133276559.0  1215939.0  139414254.0   \n",
       "4     2450  2000    1  1177578.0  138053563.0  1225773.0  143368343.0   \n",
       "\n",
       "    drate_f   drate_m  drate_f_sqrt  drate_diff  drate_mean      zdiff  \n",
       "0  0.006840  0.007329      0.082704   -0.000489    0.007084 -16.164560  \n",
       "1  0.006868  0.007290      0.082876   -0.000421    0.007079 -13.988630  \n",
       "2  0.006968  0.007289      0.083477   -0.000321    0.007129 -10.683622  \n",
       "3  0.008722  0.008820      0.093390   -0.000098    0.008771  -8.669721  \n",
       "4  0.008550  0.008530      0.092465    0.000020    0.008540   1.818552  "
      ]
     },
     "execution_count": 14,
     "metadata": {},
     "output_type": "execute_result"
    }
   ],
   "source": [
    "dx[\"zdiff\"] = (p - q) / np.sqrt(p*(1-p)/m + q*(1-q)/n)\n",
    "dx.head()"
   ]
  },
  {
   "cell_type": "markdown",
   "metadata": {},
   "source": [
    "A Z-score comparing two proportions is primarily influenced by three\n",
    "factors: (i) the difference between the underlying probabilities,\n",
    "i.e. $p - q$, (ii) the sample sizes $m$ and $n$, (iii) whether\n",
    "either or both of $p$ and $q$ are close to the boundary points 0 and\n",
    "1.\n",
    "\n",
    "The following relationships hold, where $p$ and $q$ are the\n",
    "population death rates.  Don't worry about what numerical values\n",
    "correspond to \"small\" here.  The purpose is to recognize these\n",
    "important relationships.\n",
    "\n",
    "* If $p - q$ is zero then the $Z$ score will tend to be small, no matter how large the sample sizes are.\n",
    "* If $p - q$ is small but not zero, then $Z$ will tend to be small unless $m$ and $n$ are very large.\n",
    "* If $p - q$ is moderate-large, then $Z$ may still be small if the sample sizes are small.\n",
    "* If $p - q$ is moderate-large and the sample sizes $m$ and $n$ are both not small, then $Z$ will generally be moderate-large.\n",
    "\n",
    "Point (iii) above is slightly more subtle, but for proportions, it\n",
    "is easier to establish that $p$ and $q$ are different if one of them\n",
    "is closer to 0 or 1."
   ]
  },
  {
   "cell_type": "markdown",
   "metadata": {},
   "source": [
    "The boxplots below show the distribution of Z-scores comparing\n",
    "female to male death rates by country, focusing on instances where\n",
    "the sample size is small (less than 50,000).  The boxes reflect the\n",
    "data for multiple years within each country, considering people of\n",
    "ages 70-75 only.  Since most of the Z-scores are around 2 or less\n",
    "(in magnitude) we see that in instances where we have fewer than\n",
    "10,000 total people, there usually is not strong evidence for a\n",
    "difference between the female and male death rates.  As noted above,\n",
    "this could be because there truly is no difference in the\n",
    "population, or because the sample size is too small for us to be\n",
    "able to discern a difference.  The one exception here is country\n",
    "4160 (Iceland), where there is strong evidence for greater mortality\n",
    "among males than among females, in spite of the sample sizes being\n",
    "small."
   ]
  },
  {
   "cell_type": "code",
   "execution_count": 15,
   "metadata": {},
   "outputs": [
    {
     "data": {
      "text/plain": [
       "<AxesSubplot:xlabel='Country', ylabel='zdiff'>"
      ]
     },
     "execution_count": 15,
     "metadata": {},
     "output_type": "execute_result"
    },
    {
     "data": {
      "image/png": "[encoded data removed]",
      "text/plain": [
       "<Figure size 720x360 with 1 Axes>"
      ]
     },
     "metadata": {
      "needs_background": "light"
     },
     "output_type": "display_data"
    }
   ],
   "source": [
    "plt.figure(figsize=(10, 5))\n",
    "dz = dx.loc[dx[\"Age\"] == 20, :]\n",
    "dz = dz.loc[dz[\"Pop_f\"] + dz[\"Pop_m\"] < 10000, :]\n",
    "sns.boxplot(x=\"Country\", y=\"zdiff\", data=dz)"
   ]
  },
  {
   "cell_type": "markdown",
   "metadata": {},
   "source": [
    "Now let's look at the analogous plot for instances where the sample\n",
    "size is quite large."
   ]
  },
  {
   "cell_type": "code",
   "execution_count": 16,
   "metadata": {},
   "outputs": [
    {
     "data": {
      "text/plain": [
       "<AxesSubplot:xlabel='Country', ylabel='zdiff'>"
      ]
     },
     "execution_count": 16,
     "metadata": {},
     "output_type": "execute_result"
    },
    {
     "data": {
      "image/png": "[encoded data removed]",
      "text/plain": [
       "<Figure size 720x360 with 1 Axes>"
      ]
     },
     "metadata": {
      "needs_background": "light"
     },
     "output_type": "display_data"
    }
   ],
   "source": [
    "plt.figure(figsize=(10, 5))\n",
    "dz = dx.loc[dx[\"Age\"] == 20, :]\n",
    "dz = dz.loc[dz[\"Pop_f\"] + dz[\"Pop_m\"] > 1000000, :]\n",
    "sns.boxplot(x=\"Country\", y=\"zdiff\", data=dz)"
   ]
  },
  {
   "cell_type": "markdown",
   "metadata": {},
   "source": [
    "Above it is clear that there is always strong evidence that\n",
    "mortality varies by sex, as long as we have data for more than one\n",
    "million people.  The scatterplot below shows how the Z-scores vary\n",
    "with sample size.  When the sample size is large, the Z-scores are\n",
    "always strongly negative, indicating strong evidence that male\n",
    "mortality is greater than female mortality."
   ]
  },
  {
   "cell_type": "code",
   "execution_count": 17,
   "metadata": {},
   "outputs": [
    {
     "data": {
      "text/plain": [
       "<AxesSubplot:xlabel='logpop', ylabel='zdiff'>"
      ]
     },
     "execution_count": 17,
     "metadata": {},
     "output_type": "execute_result"
    },
    {
     "data": {
      "image/png": "[encoded data removed]",
      "text/plain": [
       "<Figure size 432x288 with 1 Axes>"
      ]
     },
     "metadata": {
      "needs_background": "light"
     },
     "output_type": "display_data"
    }
   ],
   "source": [
    "dz = dx.loc[dx.Age == 20, :].copy()\n",
    "dz[\"logpop\"] = np.log10(dz[\"Pop_f\"] + dz[\"Pop_m\"])\n",
    "plt.grid(True)\n",
    "sns.scatterplot(x=\"logpop\", y=\"zdiff\", data=dz)"
   ]
  },
  {
   "cell_type": "markdown",
   "metadata": {},
   "source": [
    "The plot above shows that consistently large Z-scores occur as long\n",
    "as the sample size is around 10,000 or greater.  There is\n",
    "uncertainty about whether mortality truly varies by sex for the\n",
    "smaller subgroups.  In general, if we collect a single dataset and\n",
    "observe, say, Z=-1, then this would not be seen as evidence for a\n",
    "difference.  But here, we have many related datasets (for different\n",
    "years and countries), and sex-specific differences are always\n",
    "present when the sample size is large.  While it is possible that\n",
    "the small subgroups are fundamentally different than the larger\n",
    "subgroups, and in the small subgroups there actually is no\n",
    "difference between female and male mortality, it seems more likely\n",
    "that sex differences in mortality exist in nearly all settings, but\n",
    "we lack power to detect them when the sample size is small."
   ]
  },
  {
   "cell_type": "markdown",
   "metadata": {},
   "source": [
    "We can also consider whether the evidence for sex-differences in\n",
    "mortality differs across the ages.  The boxplot below shows that\n",
    "there is strong evidence that males have higher mortality than\n",
    "females in every age band.  Even the magnitude of this evidence does\n",
    "not vary much with age."
   ]
  },
  {
   "cell_type": "code",
   "execution_count": 18,
   "metadata": {},
   "outputs": [
    {
     "data": {
      "text/plain": [
       "<AxesSubplot:xlabel='Year', ylabel='zdiff'>"
      ]
     },
     "execution_count": 18,
     "metadata": {},
     "output_type": "execute_result"
    },
    {
     "data": {
      "image/png": "[encoded data removed]",
      "text/plain": [
       "<Figure size 864x288 with 1 Axes>"
      ]
     },
     "metadata": {
      "needs_background": "light"
     },
     "output_type": "display_data"
    }
   ],
   "source": [
    "plt.figure(figsize=(12, 4))\n",
    "sns.boxplot(x=\"Year\", y=\"zdiff\", data=dz)"
   ]
  },
  {
   "cell_type": "markdown",
   "metadata": {},
   "source": [
    "__Note on very large Z-scores:__ Z-scores are mainly used to\n",
    "quantify evidence that two things are different, here the difference\n",
    "being between two proportions $p$ and $q$.  Z-scores larger than,\n",
    "say, 5 (in magnitude) constitute \"overwhelming evidence\" that the\n",
    "difference is real.  Once overwhelming evidence is observed, it is\n",
    "no longer very relevant exactly how large the Z-score is.  For\n",
    "example, it is questionable whether a Z-score of 20 should be\n",
    "treated as being much stronger than a Z-sore of 5.  But there is no\n",
    "doubt that a Z-score of 3 is stronger than a Z-score of 2."
   ]
  },
  {
   "cell_type": "markdown",
   "metadata": {},
   "source": [
    "# Comparing death rates over time"
   ]
  },
  {
   "cell_type": "markdown",
   "metadata": {},
   "source": [
    "Next we examine death rates over time, and specifically how the\n",
    "death rate compares between two different years, for each sex, age\n",
    "band, and country."
   ]
  },
  {
   "cell_type": "markdown",
   "metadata": {},
   "source": [
    "We will focus on people who are 70-75 years old:"
   ]
  },
  {
   "cell_type": "code",
   "execution_count": 19,
   "metadata": {},
   "outputs": [
    {
     "data": {
      "text/html": [
       "<div>\n",
       "<style scoped>\n",
       "    .dataframe tbody tr th:only-of-type {\n",
       "        vertical-align: middle;\n",
       "    }\n",
       "\n",
       "    .dataframe tbody tr th {\n",
       "        vertical-align: top;\n",
       "    }\n",
       "\n",
       "    .dataframe thead th {\n",
       "        text-align: right;\n",
       "    }\n",
       "</style>\n",
       "<table border=\"1\" class=\"dataframe\">\n",
       "  <thead>\n",
       "    <tr style=\"text-align: right;\">\n",
       "      <th></th>\n",
       "      <th>Country</th>\n",
       "      <th>Year</th>\n",
       "      <th>Sex</th>\n",
       "      <th>Age</th>\n",
       "      <th>Deaths</th>\n",
       "      <th>Pop</th>\n",
       "    </tr>\n",
       "  </thead>\n",
       "  <tbody>\n",
       "    <tr>\n",
       "      <th>5196</th>\n",
       "      <td>2090</td>\n",
       "      <td>2000</td>\n",
       "      <td>1.0</td>\n",
       "      <td>20</td>\n",
       "      <td>15074.0</td>\n",
       "      <td>455876.0</td>\n",
       "    </tr>\n",
       "    <tr>\n",
       "      <th>5197</th>\n",
       "      <td>2090</td>\n",
       "      <td>2000</td>\n",
       "      <td>2.0</td>\n",
       "      <td>20</td>\n",
       "      <td>10338.0</td>\n",
       "      <td>546067.0</td>\n",
       "    </tr>\n",
       "    <tr>\n",
       "      <th>5198</th>\n",
       "      <td>2090</td>\n",
       "      <td>2001</td>\n",
       "      <td>1.0</td>\n",
       "      <td>20</td>\n",
       "      <td>14748.0</td>\n",
       "      <td>469331.0</td>\n",
       "    </tr>\n",
       "    <tr>\n",
       "      <th>5199</th>\n",
       "      <td>2090</td>\n",
       "      <td>2001</td>\n",
       "      <td>2.0</td>\n",
       "      <td>20</td>\n",
       "      <td>10190.0</td>\n",
       "      <td>549999.0</td>\n",
       "    </tr>\n",
       "    <tr>\n",
       "      <th>5200</th>\n",
       "      <td>2090</td>\n",
       "      <td>2002</td>\n",
       "      <td>1.0</td>\n",
       "      <td>20</td>\n",
       "      <td>14614.0</td>\n",
       "      <td>479597.0</td>\n",
       "    </tr>\n",
       "  </tbody>\n",
       "</table>\n",
       "</div>"
      ],
      "text/plain": [
       "      Country  Year  Sex  Age   Deaths       Pop\n",
       "5196     2090  2000  1.0   20  15074.0  455876.0\n",
       "5197     2090  2000  2.0   20  10338.0  546067.0\n",
       "5198     2090  2001  1.0   20  14748.0  469331.0\n",
       "5199     2090  2001  2.0   20  10190.0  549999.0\n",
       "5200     2090  2002  1.0   20  14614.0  479597.0"
      ]
     },
     "execution_count": 19,
     "metadata": {},
     "output_type": "execute_result"
    }
   ],
   "source": [
    "dz = df.loc[df.Age == 20, :]\n",
    "dz.head()"
   ]
  },
  {
   "cell_type": "markdown",
   "metadata": {},
   "source": [
    "These are the two years that we will compare:"
   ]
  },
  {
   "cell_type": "code",
   "execution_count": 20,
   "metadata": {},
   "outputs": [],
   "source": [
    "year1 = 2009\n",
    "year2 = 2010"
   ]
  },
  {
   "cell_type": "markdown",
   "metadata": {},
   "source": [
    "Here we select the data for the first year of interest:"
   ]
  },
  {
   "cell_type": "code",
   "execution_count": 21,
   "metadata": {},
   "outputs": [],
   "source": [
    "da = dz.loc[dz.Year == year1, :]\n",
    "da = da.rename(columns={\"Pop\": \"Pop1\", \"Deaths\": \"Deaths1\"})\n",
    "da = da.drop([\"Year\"], axis=1)"
   ]
  },
  {
   "cell_type": "markdown",
   "metadata": {},
   "source": [
    "Here we select the data for the second year of interest:"
   ]
  },
  {
   "cell_type": "code",
   "execution_count": 22,
   "metadata": {},
   "outputs": [],
   "source": [
    "db = dz.loc[dz.Year == year2, :]\n",
    "db = db.rename(columns={\"Pop\": \"Pop2\", \"Deaths\": \"Deaths2\"})\n",
    "db = db.drop([\"Year\"], axis=1)"
   ]
  },
  {
   "cell_type": "markdown",
   "metadata": {},
   "source": [
    "Now we merge the datasets for the two years to form a wide-form\n",
    "dataset."
   ]
  },
  {
   "cell_type": "code",
   "execution_count": 23,
   "metadata": {},
   "outputs": [],
   "source": [
    "v = [\"Country\", \"Sex\", \"Age\"]\n",
    "dz = pd.merge(da, db, left_on=v, right_on=v)"
   ]
  },
  {
   "cell_type": "markdown",
   "metadata": {},
   "source": [
    "Next we calculate the death rates for the two years of interest."
   ]
  },
  {
   "cell_type": "code",
   "execution_count": 24,
   "metadata": {},
   "outputs": [],
   "source": [
    "dz[\"rate1\"] = dz[\"Deaths1\"] / dz[\"Pop1\"]\n",
    "dz[\"rate2\"] = dz[\"Deaths2\"] / dz[\"Pop2\"]"
   ]
  },
  {
   "cell_type": "markdown",
   "metadata": {},
   "source": [
    "Below we calculate the Z-scores comparing the death rates in two\n",
    "years."
   ]
  },
  {
   "cell_type": "code",
   "execution_count": 25,
   "metadata": {},
   "outputs": [],
   "source": [
    "p = dz[\"rate1\"]\n",
    "q = dz[\"rate2\"]\n",
    "m = dz[\"Pop1\"]\n",
    "n = dz[\"Pop2\"]\n",
    "dz[\"zdiff\"] = (p - q) / np.sqrt(p*(1-p)/m + q*(1-q)/n)"
   ]
  },
  {
   "cell_type": "markdown",
   "metadata": {},
   "source": [
    "Now we plot the Z-scores against population.  You should explore\n",
    "where statistical differences emerge by changing the values of\n",
    "`year1` and `year2` above, and re-running the notebook.  You should\n",
    "see statistically strong reductions in mortality when comparing two\n",
    "years that are far apart, say 2000 and 2010, but much less evidence\n",
    "for a difference when comparing, say, 2009 and 2010.  The reason for\n",
    "this is that the improvement in mortality over 1 year is too small\n",
    "to provide strong statistical evidence."
   ]
  },
  {
   "cell_type": "code",
   "execution_count": 26,
   "metadata": {},
   "outputs": [
    {
     "data": {
      "text/plain": [
       "<AxesSubplot:xlabel='logpop', ylabel='zdiff'>"
      ]
     },
     "execution_count": 26,
     "metadata": {},
     "output_type": "execute_result"
    },
    {
     "data": {
      "image/png": "[encoded data removed]",
      "text/plain": [
       "<Figure size 432x288 with 1 Axes>"
      ]
     },
     "metadata": {
      "needs_background": "light"
     },
     "output_type": "display_data"
    }
   ],
   "source": [
    "plt.grid(True)\n",
    "dz[\"logpop\"] = np.log10(dz[\"Pop1\"] + dz[\"Pop2\"])\n",
    "plt.grid(True)\n",
    "sns.scatterplot(x=\"logpop\", y=\"zdiff\", data=dz)"
   ]
  },
  {
   "cell_type": "markdown",
   "metadata": {},
   "source": [
    "# Confidence intervals for death rates"
   ]
  },
  {
   "cell_type": "markdown",
   "metadata": {},
   "source": [
    "Confidence intervals are a very useful way to communicate the level\n",
    "of uncertainty about a statistical estimate.  The confidence\n",
    "intervals that we use in this course are easily derived from a point\n",
    "estimate and its standard error (not all confidence intervals are\n",
    "derived this way, but in this course we always use this approach).\n",
    "The 95% confidence interval (CI) for an estimate is equal to the\n",
    "estimate plus or minus two times its standard error."
   ]
  },
  {
   "cell_type": "markdown",
   "metadata": {},
   "source": [
    "Confidence intervals can be constructed for a single target, or for\n",
    "the difference between two targets.  In this notebook, the focus is\n",
    "on mortality rates in specific locations, years, and demographic\n",
    "subgroups.  For example, if we present the 95% confidence interval\n",
    "for the mortality rate among 70-80 year old women living in\n",
    "Argentina, this is a confidence interval for a single target.  On\n",
    "the other hand, if we present the 95% confidence interval for the\n",
    "difference between female and male mortality rates among 70-80 year\n",
    "old people living in Argentina, then this is a confidence interval\n",
    "for the difference between two targets."
   ]
  },
  {
   "cell_type": "markdown",
   "metadata": {},
   "source": [
    "Next we calculate the death rate and its estimated standard error\n",
    "for each population subgroup (age group x year x country x sex)."
   ]
  },
  {
   "cell_type": "code",
   "execution_count": 27,
   "metadata": {},
   "outputs": [],
   "source": [
    "df[\"drate\"] = df[\"Deaths\"] / df[\"Pop\"]\n",
    "df[\"drate_se\"] = np.sqrt(df[\"drate\"] * (1 - df[\"drate\"]) / df[\"Pop\"])"
   ]
  },
  {
   "cell_type": "markdown",
   "metadata": {},
   "source": [
    "Now we calculate 95% confidence intervals in the usual way."
   ]
  },
  {
   "cell_type": "code",
   "execution_count": 28,
   "metadata": {},
   "outputs": [
    {
     "data": {
      "text/html": [
       "<div>\n",
       "<style scoped>\n",
       "    .dataframe tbody tr th:only-of-type {\n",
       "        vertical-align: middle;\n",
       "    }\n",
       "\n",
       "    .dataframe tbody tr th {\n",
       "        vertical-align: top;\n",
       "    }\n",
       "\n",
       "    .dataframe thead th {\n",
       "        text-align: right;\n",
       "    }\n",
       "</style>\n",
       "<table border=\"1\" class=\"dataframe\">\n",
       "  <thead>\n",
       "    <tr style=\"text-align: right;\">\n",
       "      <th></th>\n",
       "      <th>Country</th>\n",
       "      <th>Year</th>\n",
       "      <th>Sex</th>\n",
       "      <th>Age</th>\n",
       "      <th>Deaths</th>\n",
       "      <th>Pop</th>\n",
       "      <th>drate</th>\n",
       "      <th>drate_se</th>\n",
       "      <th>ucb</th>\n",
       "      <th>lcb</th>\n",
       "    </tr>\n",
       "  </thead>\n",
       "  <tbody>\n",
       "    <tr>\n",
       "      <th>0</th>\n",
       "      <td>2090</td>\n",
       "      <td>2000</td>\n",
       "      <td>1.0</td>\n",
       "      <td>1</td>\n",
       "      <td>111741.0</td>\n",
       "      <td>15246964.0</td>\n",
       "      <td>0.007329</td>\n",
       "      <td>0.000022</td>\n",
       "      <td>0.007372</td>\n",
       "      <td>0.007285</td>\n",
       "    </tr>\n",
       "    <tr>\n",
       "      <th>1</th>\n",
       "      <td>2090</td>\n",
       "      <td>2000</td>\n",
       "      <td>2.0</td>\n",
       "      <td>1</td>\n",
       "      <td>106320.0</td>\n",
       "      <td>15543870.0</td>\n",
       "      <td>0.006840</td>\n",
       "      <td>0.000021</td>\n",
       "      <td>0.006882</td>\n",
       "      <td>0.006798</td>\n",
       "    </tr>\n",
       "    <tr>\n",
       "      <th>2</th>\n",
       "      <td>2090</td>\n",
       "      <td>2001</td>\n",
       "      <td>1.0</td>\n",
       "      <td>1</td>\n",
       "      <td>112000.0</td>\n",
       "      <td>15364404.0</td>\n",
       "      <td>0.007290</td>\n",
       "      <td>0.000022</td>\n",
       "      <td>0.007333</td>\n",
       "      <td>0.007246</td>\n",
       "    </tr>\n",
       "    <tr>\n",
       "      <th>3</th>\n",
       "      <td>2090</td>\n",
       "      <td>2001</td>\n",
       "      <td>2.0</td>\n",
       "      <td>1</td>\n",
       "      <td>107537.0</td>\n",
       "      <td>15656847.0</td>\n",
       "      <td>0.006868</td>\n",
       "      <td>0.000021</td>\n",
       "      <td>0.006910</td>\n",
       "      <td>0.006827</td>\n",
       "    </tr>\n",
       "    <tr>\n",
       "      <th>4</th>\n",
       "      <td>2090</td>\n",
       "      <td>2002</td>\n",
       "      <td>1.0</td>\n",
       "      <td>1</td>\n",
       "      <td>113266.0</td>\n",
       "      <td>15538572.0</td>\n",
       "      <td>0.007289</td>\n",
       "      <td>0.000022</td>\n",
       "      <td>0.007333</td>\n",
       "      <td>0.007246</td>\n",
       "    </tr>\n",
       "  </tbody>\n",
       "</table>\n",
       "</div>"
      ],
      "text/plain": [
       "   Country  Year  Sex  Age    Deaths         Pop     drate  drate_se  \\\n",
       "0     2090  2000  1.0    1  111741.0  15246964.0  0.007329  0.000022   \n",
       "1     2090  2000  2.0    1  106320.0  15543870.0  0.006840  0.000021   \n",
       "2     2090  2001  1.0    1  112000.0  15364404.0  0.007290  0.000022   \n",
       "3     2090  2001  2.0    1  107537.0  15656847.0  0.006868  0.000021   \n",
       "4     2090  2002  1.0    1  113266.0  15538572.0  0.007289  0.000022   \n",
       "\n",
       "        ucb       lcb  \n",
       "0  0.007372  0.007285  \n",
       "1  0.006882  0.006798  \n",
       "2  0.007333  0.007246  \n",
       "3  0.006910  0.006827  \n",
       "4  0.007333  0.007246  "
      ]
     },
     "execution_count": 28,
     "metadata": {},
     "output_type": "execute_result"
    }
   ],
   "source": [
    "df[\"ucb\"] = df[\"drate\"] + 2*df[\"drate_se\"]\n",
    "df[\"lcb\"] = df[\"drate\"] - 2*df[\"drate_se\"]\n",
    "df.head()"
   ]
  },
  {
   "cell_type": "markdown",
   "metadata": {},
   "source": [
    "Note that in a few instances, the confidence interval falls outside\n",
    "the valid range for a probability.  This is something that can\n",
    "happen with this type of confidence interval."
   ]
  },
  {
   "cell_type": "code",
   "execution_count": 29,
   "metadata": {},
   "outputs": [
    {
     "data": {
      "text/plain": [
       "1403"
      ]
     },
     "execution_count": 29,
     "metadata": {},
     "output_type": "execute_result"
    }
   ],
   "source": [
    "(df[\"lcb\"] < 0).sum()"
   ]
  },
  {
   "cell_type": "markdown",
   "metadata": {},
   "source": [
    "Above we constructed a dataset 'dx' that placed the female and male\n",
    "death rates in distinct dataframe columns.  We then looked at\n",
    "Z-scores for differences between two targets, e.g.  female minus\n",
    "male mortality in a specific age group, year, and country.  We can\n",
    "now adapt these calculations to produce confidence intervals for the\n",
    "difference between two rates (female minus male).  These are some of\n",
    "the key quantities that we will need:"
   ]
  },
  {
   "cell_type": "code",
   "execution_count": 30,
   "metadata": {},
   "outputs": [],
   "source": [
    "p = dx[\"drate_f\"]\n",
    "q = dx[\"drate_m\"]\n",
    "m = dx[\"Pop_f\"]\n",
    "n = dx[\"Pop_m\"]"
   ]
  },
  {
   "cell_type": "markdown",
   "metadata": {},
   "source": [
    "The estimated pooled standard error for the difference of rates is"
   ]
  },
  {
   "cell_type": "code",
   "execution_count": 31,
   "metadata": {},
   "outputs": [],
   "source": [
    "dx[\"pse\"] = np.sqrt(p*(1-p)/m + q*(1-q)/n)"
   ]
  },
  {
   "cell_type": "markdown",
   "metadata": {},
   "source": [
    "Once we have the pooled standard error, we can construct a 95%\n",
    "confidence interval for the difference between the female and male\n",
    "death rates by taking the point estimate plus or minus two standard\n",
    "errors."
   ]
  },
  {
   "cell_type": "code",
   "execution_count": 32,
   "metadata": {},
   "outputs": [],
   "source": [
    "dx[\"drate_diff\"] = dx[\"drate_f\"] - dx[\"drate_m\"]\n",
    "dx[\"lcb\"] = dx[\"drate_diff\"] - 2*dx[\"pse\"]\n",
    "dx[\"ucb\"] = dx[\"drate_diff\"] + 2*dx[\"pse\"]"
   ]
  },
  {
   "cell_type": "markdown",
   "metadata": {},
   "source": [
    "One of the important characteristics of a confidence interval is its\n",
    "width.  A narrow confidence interval is more informative than a wide\n",
    "confidence interval.  The width of a confidence interval is\n",
    "influenced by several factors, including the sample size (or sample\n",
    "sizes if there are two groups)."
   ]
  },
  {
   "cell_type": "markdown",
   "metadata": {},
   "source": [
    "The plots below show how the width of the confidence intervals\n",
    "constructed above relate to the sample sizes of the smaller and\n",
    "larger of the two groups being compared.  We restrict to one of the\n",
    "older age bands so that the death rate is not extremely small."
   ]
  },
  {
   "cell_type": "code",
   "execution_count": 33,
   "metadata": {},
   "outputs": [
    {
     "name": "stderr",
     "output_type": "stream",
     "text": [
      "/sw/arcts/centos7/python3.8-anaconda/2021.05/lib/python3.8/site-packages/pandas/core/arraylike.py:358: RuntimeWarning: divide by zero encountered in log\n",
      "  result = getattr(ufunc, method)(*inputs, **kwargs)\n"
     ]
    },
    {
     "data": {
      "text/plain": [
       "<AxesSubplot:xlabel='log_smaller_n', ylabel='log_ci_width'>"
      ]
     },
     "execution_count": 33,
     "metadata": {},
     "output_type": "execute_result"
    },
    {
     "data": {
      "image/png": "[encoded data removed]",
      "text/plain": [
       "<Figure size 432x288 with 1 Axes>"
      ]
     },
     "metadata": {
      "needs_background": "light"
     },
     "output_type": "display_data"
    }
   ],
   "source": [
    "dx[\"log_ci_width\"] = np.log(dx[\"ucb\"] - dx[\"lcb\"])\n",
    "dx[\"log_smaller_n\"] = np.log(dx[[\"Pop_m\", \"Pop_f\"]].min(1))\n",
    "dx[\"log_larger_n\"] = np.log(dx[[\"Pop_m\", \"Pop_f\"]].max(1))\n",
    "dxx = dx.loc[dx[\"Age\"] == 20, :]\n",
    "sns.scatterplot(x=\"log_smaller_n\", y=\"log_ci_width\", data=dxx)"
   ]
  },
  {
   "cell_type": "code",
   "execution_count": 34,
   "metadata": {},
   "outputs": [
    {
     "data": {
      "text/plain": [
       "<AxesSubplot:xlabel='log_larger_n', ylabel='log_ci_width'>"
      ]
     },
     "execution_count": 34,
     "metadata": {},
     "output_type": "execute_result"
    },
    {
     "data": {
      "image/png": "[encoded data removed]",
      "text/plain": [
       "<Figure size 432x288 with 1 Axes>"
      ]
     },
     "metadata": {
      "needs_background": "light"
     },
     "output_type": "display_data"
    }
   ],
   "source": [
    "sns.scatterplot(x=\"log_larger_n\", y=\"log_ci_width\", data=dxx)"
   ]
  },
  {
   "cell_type": "markdown",
   "metadata": {},
   "source": [
    "# Hypothesis tests"
   ]
  },
  {
   "cell_type": "markdown",
   "metadata": {},
   "source": [
    "Another way to convey statistical uncertainty is by conducting a\n",
    "formal hypothesis test.  This involves specifying a null hypothesis,\n",
    "devising a test statistic that measures evidence against the null,\n",
    "and calculating a p-value that conveys the strength of evidence\n",
    "against the null hypothesis on a standard scale."
   ]
  },
  {
   "cell_type": "markdown",
   "metadata": {},
   "source": [
    "Continuing with the analysis above, we will consider the formal\n",
    "hypothesis that female and male mortality rates are equal in\n",
    "individual subpopulations defined by age, country, and year.  This\n",
    "is a two-sample t-test based on proportions.  The two sample\n",
    "t-statistic is as follows."
   ]
  },
  {
   "cell_type": "code",
   "execution_count": 35,
   "metadata": {},
   "outputs": [],
   "source": [
    "dx[\"tstat\"] = dx[\"drate_diff\"] / dx[\"pse\"]"
   ]
  },
  {
   "cell_type": "markdown",
   "metadata": {},
   "source": [
    "The corresponding p-value for this test is as follows."
   ]
  },
  {
   "cell_type": "code",
   "execution_count": 36,
   "metadata": {},
   "outputs": [],
   "source": [
    "dx[\"pvalue\"] = 2*scipy.stats.distributions.norm.cdf(-np.abs(dx[\"tstat\"]))"
   ]
  },
  {
   "cell_type": "markdown",
   "metadata": {},
   "source": [
    "Remember that a small p-value and a large (in magnitude) test\n",
    "statistic convey evidence against the null hypothesis.  It is nearly\n",
    "equivalent that the test statistic is greater than 2 in magnitude or\n",
    "the p-value is less than 0.05."
   ]
  },
  {
   "cell_type": "code",
   "execution_count": 37,
   "metadata": {},
   "outputs": [
    {
     "name": "stdout",
     "output_type": "stream",
     "text": [
      "0.7301113656951032\n",
      "0.7329354718388661\n"
     ]
    }
   ],
   "source": [
    "print((np.abs(dx[\"tstat\"]) > 2).mean())\n",
    "print((dx[\"pvalue\"] <= 0.05).mean())"
   ]
  },
  {
   "cell_type": "markdown",
   "metadata": {},
   "source": [
    "The test statistic also contains information about the direction of\n",
    "the effect that is lost when working with the p-value.  In this\n",
    "analysis, since our estimand is the female death rate minus the male\n",
    "death rate, a positive test-statistic corresponds to a setting where\n",
    "female deaths are more common than male deaths (relative to the\n",
    "population sizes).  A negative test statistic corresponds to a\n",
    "setting where male deaths are more common than female deaths.  The\n",
    "latter is much more common:"
   ]
  },
  {
   "cell_type": "code",
   "execution_count": 38,
   "metadata": {},
   "outputs": [
    {
     "name": "stdout",
     "output_type": "stream",
     "text": [
      "13420\n",
      "4903\n",
      "282\n"
     ]
    }
   ],
   "source": [
    "print((dx[\"tstat\"] <= -2).sum())\n",
    "print(((dx[\"tstat\"] > -2) & (dx[\"tstat\"] <= 2)).sum())\n",
    "print((dx[\"tstat\"] > 2).sum())"
   ]
  },
  {
   "cell_type": "markdown",
   "metadata": {},
   "source": [
    "The following plot shows how the p-values and test statistics are\n",
    "related.  The p-value is extremely small unless the test statistic\n",
    "is close to zero."
   ]
  },
  {
   "cell_type": "code",
   "execution_count": 39,
   "metadata": {},
   "outputs": [
    {
     "data": {
      "text/plain": [
       "<AxesSubplot:xlabel='tstat', ylabel='pvalue'>"
      ]
     },
     "execution_count": 39,
     "metadata": {},
     "output_type": "execute_result"
    },
    {
     "data": {
      "image/png": "[encoded data removed]",
      "text/plain": [
       "<Figure size 432x288 with 1 Axes>"
      ]
     },
     "metadata": {
      "needs_background": "light"
     },
     "output_type": "display_data"
    }
   ],
   "source": [
    "sns.scatterplot(x=\"tstat\", y=\"pvalue\", data=dx)"
   ]
  },
  {
   "cell_type": "markdown",
   "metadata": {},
   "source": [
    "We can see this more clearly by zooming in on the origin."
   ]
  },
  {
   "cell_type": "code",
   "execution_count": 40,
   "metadata": {},
   "outputs": [
    {
     "data": {
      "text/plain": [
       "(-10.0, 10.0)"
      ]
     },
     "execution_count": 40,
     "metadata": {},
     "output_type": "execute_result"
    },
    {
     "data": {
      "image/png": "[encoded data removed]",
      "text/plain": [
       "<Figure size 432x288 with 1 Axes>"
      ]
     },
     "metadata": {
      "needs_background": "light"
     },
     "output_type": "display_data"
    }
   ],
   "source": [
    "sns.scatterplot(x=\"tstat\", y=\"pvalue\", data=dx)\n",
    "plt.xlim(-10, 10)"
   ]
  }
 ],
 "metadata": {
  "jupytext": {
   "cell_metadata_filter": "-all",
   "main_language": "python",
   "notebook_metadata_filter": "-all"
  },
  "kernelspec": {
   "display_name": "Python 3",
   "language": "python",
   "name": "python3"
  },
  "language_info": {
   "codemirror_mode": {
    "name": "ipython",
    "version": 3
   },
   "file_extension": ".py",
   "mimetype": "text/x-python",
   "name": "python",
   "nbconvert_exporter": "python",
   "pygments_lexer": "ipython3",
   "version": "3.8.8"
  }
 },
 "nbformat": 4,
 "nbformat_minor": 2
}
